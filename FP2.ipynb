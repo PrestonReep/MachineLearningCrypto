{
 "cells": [
  {
   "cell_type": "markdown",
   "metadata": {},
   "source": [
    "# FP2\n",
    "By Preston Reep, Micheal Reiser, Andrew Stelmach"
   ]
  },
  {
   "cell_type": "markdown",
   "metadata": {},
   "source": [
    "Revelent crypotcurrency trading data was scrapped using the Alpha Vantage API. \n",
    "\n",
    "Documentation: https://www.alphavantage.co/documentation/\n",
    "\n",
    "Technical Indicators were calculated, given the scrapped data, using the Technical Analysis Library.\n",
    "\n",
    "Documentation: https://technical-analysis-library-in-python.readthedocs.io/en/latest/"
   ]
  },
  {
   "cell_type": "code",
   "execution_count": 16,
   "metadata": {},
   "outputs": [],
   "source": [
    "#Supply Necessary Imports\n",
    "from alpha_vantage.cryptocurrencies import CryptoCurrencies\n",
    "import numpy as np\n",
    "import pandas as pd\n",
    "from ta import add_all_ta_features\n",
    "import plotly.express as px\n",
    "\n",
    "\n",
    "api_key = \"3HUOFF16TF1SQVSM3\""
   ]
  },
  {
   "cell_type": "code",
   "execution_count": 5,
   "metadata": {},
   "outputs": [],
   "source": [
    "#Scrape daily bitcoin data\n",
    "cc = CryptoCurrencies(key= api_key, output_format='pandas')\n",
    "data, meta_data = cc.get_digital_currency_daily(symbol = 'BTC', market = 'USD')"
   ]
  },
  {
   "cell_type": "code",
   "execution_count": 6,
   "metadata": {
    "scrolled": true
   },
   "outputs": [
    {
     "data": {
      "text/html": [
       "<div>\n",
       "<style scoped>\n",
       "    .dataframe tbody tr th:only-of-type {\n",
       "        vertical-align: middle;\n",
       "    }\n",
       "\n",
       "    .dataframe tbody tr th {\n",
       "        vertical-align: top;\n",
       "    }\n",
       "\n",
       "    .dataframe thead th {\n",
       "        text-align: right;\n",
       "    }\n",
       "</style>\n",
       "<table border=\"1\" class=\"dataframe\">\n",
       "  <thead>\n",
       "    <tr style=\"text-align: right;\">\n",
       "      <th></th>\n",
       "      <th>1a. open (USD)</th>\n",
       "      <th>1b. open (USD)</th>\n",
       "      <th>2a. high (USD)</th>\n",
       "      <th>2b. high (USD)</th>\n",
       "      <th>3a. low (USD)</th>\n",
       "      <th>3b. low (USD)</th>\n",
       "      <th>4a. close (USD)</th>\n",
       "      <th>4b. close (USD)</th>\n",
       "      <th>5. volume</th>\n",
       "      <th>6. market cap (USD)</th>\n",
       "    </tr>\n",
       "    <tr>\n",
       "      <th>date</th>\n",
       "      <th></th>\n",
       "      <th></th>\n",
       "      <th></th>\n",
       "      <th></th>\n",
       "      <th></th>\n",
       "      <th></th>\n",
       "      <th></th>\n",
       "      <th></th>\n",
       "      <th></th>\n",
       "      <th></th>\n",
       "    </tr>\n",
       "  </thead>\n",
       "  <tbody>\n",
       "    <tr>\n",
       "      <th>2021-06-16</th>\n",
       "      <td>40143.80</td>\n",
       "      <td>40143.80</td>\n",
       "      <td>40154.34</td>\n",
       "      <td>40154.34</td>\n",
       "      <td>39910.24</td>\n",
       "      <td>39910.24</td>\n",
       "      <td>40000.00</td>\n",
       "      <td>40000.00</td>\n",
       "      <td>1553.183197</td>\n",
       "      <td>1553.183197</td>\n",
       "    </tr>\n",
       "    <tr>\n",
       "      <th>2021-06-15</th>\n",
       "      <td>40516.28</td>\n",
       "      <td>40516.28</td>\n",
       "      <td>41330.00</td>\n",
       "      <td>41330.00</td>\n",
       "      <td>39506.40</td>\n",
       "      <td>39506.40</td>\n",
       "      <td>40144.04</td>\n",
       "      <td>40144.04</td>\n",
       "      <td>80679.622838</td>\n",
       "      <td>80679.622838</td>\n",
       "    </tr>\n",
       "    <tr>\n",
       "      <th>2021-06-14</th>\n",
       "      <td>39020.56</td>\n",
       "      <td>39020.56</td>\n",
       "      <td>41064.05</td>\n",
       "      <td>41064.05</td>\n",
       "      <td>38730.00</td>\n",
       "      <td>38730.00</td>\n",
       "      <td>40516.29</td>\n",
       "      <td>40516.29</td>\n",
       "      <td>108522.391949</td>\n",
       "      <td>108522.391949</td>\n",
       "    </tr>\n",
       "    <tr>\n",
       "      <th>2021-06-13</th>\n",
       "      <td>35546.12</td>\n",
       "      <td>35546.12</td>\n",
       "      <td>39380.00</td>\n",
       "      <td>39380.00</td>\n",
       "      <td>34757.00</td>\n",
       "      <td>34757.00</td>\n",
       "      <td>39020.57</td>\n",
       "      <td>39020.57</td>\n",
       "      <td>86921.025555</td>\n",
       "      <td>86921.025555</td>\n",
       "    </tr>\n",
       "    <tr>\n",
       "      <th>2021-06-12</th>\n",
       "      <td>37331.98</td>\n",
       "      <td>37331.98</td>\n",
       "      <td>37463.63</td>\n",
       "      <td>37463.63</td>\n",
       "      <td>34600.36</td>\n",
       "      <td>34600.36</td>\n",
       "      <td>35546.11</td>\n",
       "      <td>35546.11</td>\n",
       "      <td>87717.549990</td>\n",
       "      <td>87717.549990</td>\n",
       "    </tr>\n",
       "    <tr>\n",
       "      <th>...</th>\n",
       "      <td>...</td>\n",
       "      <td>...</td>\n",
       "      <td>...</td>\n",
       "      <td>...</td>\n",
       "      <td>...</td>\n",
       "      <td>...</td>\n",
       "      <td>...</td>\n",
       "      <td>...</td>\n",
       "      <td>...</td>\n",
       "      <td>...</td>\n",
       "    </tr>\n",
       "    <tr>\n",
       "      <th>2018-09-25</th>\n",
       "      <td>6581.42</td>\n",
       "      <td>6581.42</td>\n",
       "      <td>6584.01</td>\n",
       "      <td>6584.01</td>\n",
       "      <td>6325.02</td>\n",
       "      <td>6325.02</td>\n",
       "      <td>6447.54</td>\n",
       "      <td>6447.54</td>\n",
       "      <td>40301.029452</td>\n",
       "      <td>40301.029452</td>\n",
       "    </tr>\n",
       "    <tr>\n",
       "      <th>2018-09-24</th>\n",
       "      <td>6706.81</td>\n",
       "      <td>6706.81</td>\n",
       "      <td>6730.00</td>\n",
       "      <td>6730.00</td>\n",
       "      <td>6557.00</td>\n",
       "      <td>6557.00</td>\n",
       "      <td>6581.39</td>\n",
       "      <td>6581.39</td>\n",
       "      <td>35305.739910</td>\n",
       "      <td>35305.739910</td>\n",
       "    </tr>\n",
       "    <tr>\n",
       "      <th>2018-09-23</th>\n",
       "      <td>6723.05</td>\n",
       "      <td>6723.05</td>\n",
       "      <td>6788.23</td>\n",
       "      <td>6788.23</td>\n",
       "      <td>6661.75</td>\n",
       "      <td>6661.75</td>\n",
       "      <td>6708.00</td>\n",
       "      <td>6708.00</td>\n",
       "      <td>30286.229773</td>\n",
       "      <td>30286.229773</td>\n",
       "    </tr>\n",
       "    <tr>\n",
       "      <th>2018-09-22</th>\n",
       "      <td>6759.01</td>\n",
       "      <td>6759.01</td>\n",
       "      <td>6839.03</td>\n",
       "      <td>6839.03</td>\n",
       "      <td>6627.00</td>\n",
       "      <td>6627.00</td>\n",
       "      <td>6723.05</td>\n",
       "      <td>6723.05</td>\n",
       "      <td>29349.690667</td>\n",
       "      <td>29349.690667</td>\n",
       "    </tr>\n",
       "    <tr>\n",
       "      <th>2018-09-21</th>\n",
       "      <td>6492.00</td>\n",
       "      <td>6492.00</td>\n",
       "      <td>6784.86</td>\n",
       "      <td>6784.86</td>\n",
       "      <td>6491.00</td>\n",
       "      <td>6491.00</td>\n",
       "      <td>6759.02</td>\n",
       "      <td>6759.02</td>\n",
       "      <td>51779.343463</td>\n",
       "      <td>51779.343463</td>\n",
       "    </tr>\n",
       "  </tbody>\n",
       "</table>\n",
       "<p>1000 rows × 10 columns</p>\n",
       "</div>"
      ],
      "text/plain": [
       "            1a. open (USD)  1b. open (USD)  2a. high (USD)  2b. high (USD)  \\\n",
       "date                                                                         \n",
       "2021-06-16        40143.80        40143.80        40154.34        40154.34   \n",
       "2021-06-15        40516.28        40516.28        41330.00        41330.00   \n",
       "2021-06-14        39020.56        39020.56        41064.05        41064.05   \n",
       "2021-06-13        35546.12        35546.12        39380.00        39380.00   \n",
       "2021-06-12        37331.98        37331.98        37463.63        37463.63   \n",
       "...                    ...             ...             ...             ...   \n",
       "2018-09-25         6581.42         6581.42         6584.01         6584.01   \n",
       "2018-09-24         6706.81         6706.81         6730.00         6730.00   \n",
       "2018-09-23         6723.05         6723.05         6788.23         6788.23   \n",
       "2018-09-22         6759.01         6759.01         6839.03         6839.03   \n",
       "2018-09-21         6492.00         6492.00         6784.86         6784.86   \n",
       "\n",
       "            3a. low (USD)  3b. low (USD)  4a. close (USD)  4b. close (USD)  \\\n",
       "date                                                                         \n",
       "2021-06-16       39910.24       39910.24         40000.00         40000.00   \n",
       "2021-06-15       39506.40       39506.40         40144.04         40144.04   \n",
       "2021-06-14       38730.00       38730.00         40516.29         40516.29   \n",
       "2021-06-13       34757.00       34757.00         39020.57         39020.57   \n",
       "2021-06-12       34600.36       34600.36         35546.11         35546.11   \n",
       "...                   ...            ...              ...              ...   \n",
       "2018-09-25        6325.02        6325.02          6447.54          6447.54   \n",
       "2018-09-24        6557.00        6557.00          6581.39          6581.39   \n",
       "2018-09-23        6661.75        6661.75          6708.00          6708.00   \n",
       "2018-09-22        6627.00        6627.00          6723.05          6723.05   \n",
       "2018-09-21        6491.00        6491.00          6759.02          6759.02   \n",
       "\n",
       "                5. volume  6. market cap (USD)  \n",
       "date                                            \n",
       "2021-06-16    1553.183197          1553.183197  \n",
       "2021-06-15   80679.622838         80679.622838  \n",
       "2021-06-14  108522.391949        108522.391949  \n",
       "2021-06-13   86921.025555         86921.025555  \n",
       "2021-06-12   87717.549990         87717.549990  \n",
       "...                   ...                  ...  \n",
       "2018-09-25   40301.029452         40301.029452  \n",
       "2018-09-24   35305.739910         35305.739910  \n",
       "2018-09-23   30286.229773         30286.229773  \n",
       "2018-09-22   29349.690667         29349.690667  \n",
       "2018-09-21   51779.343463         51779.343463  \n",
       "\n",
       "[1000 rows x 10 columns]"
      ]
     },
     "execution_count": 6,
     "metadata": {},
     "output_type": "execute_result"
    }
   ],
   "source": [
    "data"
   ]
  },
  {
   "cell_type": "code",
   "execution_count": 7,
   "metadata": {},
   "outputs": [
    {
     "name": "stderr",
     "output_type": "stream",
     "text": [
      "C:\\Users\\prest\\anaconda3\\lib\\site-packages\\ta\\trend.py:768: RuntimeWarning: invalid value encountered in double_scalars\n",
      "  dip[i] = 100 * (self._dip[i] / self._trs[i])\n",
      "C:\\Users\\prest\\anaconda3\\lib\\site-packages\\ta\\trend.py:772: RuntimeWarning: invalid value encountered in double_scalars\n",
      "  din[i] = 100 * (self._din[i] / self._trs[i])\n"
     ]
    }
   ],
   "source": [
    "#Calculate Technical Indicators \n",
    "tech = add_all_ta_features(data, open=\"1a. open (USD)\", high=\"2a. high (USD)\", low=\"3a. low (USD)\", close=\"4a. close (USD)\", volume=\"5. volume\", fillna=True)"
   ]
  },
  {
   "cell_type": "code",
   "execution_count": 8,
   "metadata": {},
   "outputs": [
    {
     "data": {
      "text/html": [
       "<div>\n",
       "<style scoped>\n",
       "    .dataframe tbody tr th:only-of-type {\n",
       "        vertical-align: middle;\n",
       "    }\n",
       "\n",
       "    .dataframe tbody tr th {\n",
       "        vertical-align: top;\n",
       "    }\n",
       "\n",
       "    .dataframe thead th {\n",
       "        text-align: right;\n",
       "    }\n",
       "</style>\n",
       "<table border=\"1\" class=\"dataframe\">\n",
       "  <thead>\n",
       "    <tr style=\"text-align: right;\">\n",
       "      <th></th>\n",
       "      <th>1a. open (USD)</th>\n",
       "      <th>1b. open (USD)</th>\n",
       "      <th>2a. high (USD)</th>\n",
       "      <th>2b. high (USD)</th>\n",
       "      <th>3a. low (USD)</th>\n",
       "      <th>3b. low (USD)</th>\n",
       "      <th>4a. close (USD)</th>\n",
       "      <th>4b. close (USD)</th>\n",
       "      <th>5. volume</th>\n",
       "      <th>6. market cap (USD)</th>\n",
       "      <th>...</th>\n",
       "      <th>momentum_wr</th>\n",
       "      <th>momentum_ao</th>\n",
       "      <th>momentum_kama</th>\n",
       "      <th>momentum_roc</th>\n",
       "      <th>momentum_ppo</th>\n",
       "      <th>momentum_ppo_signal</th>\n",
       "      <th>momentum_ppo_hist</th>\n",
       "      <th>others_dr</th>\n",
       "      <th>others_dlr</th>\n",
       "      <th>others_cr</th>\n",
       "    </tr>\n",
       "    <tr>\n",
       "      <th>date</th>\n",
       "      <th></th>\n",
       "      <th></th>\n",
       "      <th></th>\n",
       "      <th></th>\n",
       "      <th></th>\n",
       "      <th></th>\n",
       "      <th></th>\n",
       "      <th></th>\n",
       "      <th></th>\n",
       "      <th></th>\n",
       "      <th></th>\n",
       "      <th></th>\n",
       "      <th></th>\n",
       "      <th></th>\n",
       "      <th></th>\n",
       "      <th></th>\n",
       "      <th></th>\n",
       "      <th></th>\n",
       "      <th></th>\n",
       "      <th></th>\n",
       "      <th></th>\n",
       "    </tr>\n",
       "  </thead>\n",
       "  <tbody>\n",
       "    <tr>\n",
       "      <th>2021-06-16</th>\n",
       "      <td>40143.80</td>\n",
       "      <td>40143.80</td>\n",
       "      <td>40154.34</td>\n",
       "      <td>40154.34</td>\n",
       "      <td>39910.24</td>\n",
       "      <td>39910.24</td>\n",
       "      <td>40000.00</td>\n",
       "      <td>40000.00</td>\n",
       "      <td>1553.183197</td>\n",
       "      <td>1553.183197</td>\n",
       "      <td>...</td>\n",
       "      <td>-63.228185</td>\n",
       "      <td>0.000000</td>\n",
       "      <td>40000.000000</td>\n",
       "      <td>0.000000</td>\n",
       "      <td>0.000000</td>\n",
       "      <td>0.000000</td>\n",
       "      <td>0.000000</td>\n",
       "      <td>164.574330</td>\n",
       "      <td>0.000000</td>\n",
       "      <td>0.000000</td>\n",
       "    </tr>\n",
       "    <tr>\n",
       "      <th>2021-06-15</th>\n",
       "      <td>40516.28</td>\n",
       "      <td>40516.28</td>\n",
       "      <td>41330.00</td>\n",
       "      <td>41330.00</td>\n",
       "      <td>39506.40</td>\n",
       "      <td>39506.40</td>\n",
       "      <td>40144.04</td>\n",
       "      <td>40144.04</td>\n",
       "      <td>80679.622838</td>\n",
       "      <td>80679.622838</td>\n",
       "      <td>...</td>\n",
       "      <td>-65.033999</td>\n",
       "      <td>0.000000</td>\n",
       "      <td>40064.582399</td>\n",
       "      <td>0.000000</td>\n",
       "      <td>85.132713</td>\n",
       "      <td>17.026543</td>\n",
       "      <td>68.106170</td>\n",
       "      <td>0.360100</td>\n",
       "      <td>0.359453</td>\n",
       "      <td>0.360100</td>\n",
       "    </tr>\n",
       "    <tr>\n",
       "      <th>2021-06-14</th>\n",
       "      <td>39020.56</td>\n",
       "      <td>39020.56</td>\n",
       "      <td>41064.05</td>\n",
       "      <td>41064.05</td>\n",
       "      <td>38730.00</td>\n",
       "      <td>38730.00</td>\n",
       "      <td>40516.29</td>\n",
       "      <td>40516.29</td>\n",
       "      <td>108522.391949</td>\n",
       "      <td>108522.391949</td>\n",
       "      <td>...</td>\n",
       "      <td>-31.296538</td>\n",
       "      <td>0.000000</td>\n",
       "      <td>40266.680443</td>\n",
       "      <td>0.000000</td>\n",
       "      <td>89.953653</td>\n",
       "      <td>31.611965</td>\n",
       "      <td>58.341688</td>\n",
       "      <td>0.927286</td>\n",
       "      <td>0.923013</td>\n",
       "      <td>1.290725</td>\n",
       "    </tr>\n",
       "    <tr>\n",
       "      <th>2021-06-13</th>\n",
       "      <td>35546.12</td>\n",
       "      <td>35546.12</td>\n",
       "      <td>39380.00</td>\n",
       "      <td>39380.00</td>\n",
       "      <td>34757.00</td>\n",
       "      <td>34757.00</td>\n",
       "      <td>39020.57</td>\n",
       "      <td>39020.57</td>\n",
       "      <td>86921.025555</td>\n",
       "      <td>86921.025555</td>\n",
       "      <td>...</td>\n",
       "      <td>-35.135098</td>\n",
       "      <td>0.000000</td>\n",
       "      <td>39792.662501</td>\n",
       "      <td>0.000000</td>\n",
       "      <td>84.438097</td>\n",
       "      <td>42.177191</td>\n",
       "      <td>42.260906</td>\n",
       "      <td>-3.691651</td>\n",
       "      <td>-3.761517</td>\n",
       "      <td>-2.448575</td>\n",
       "    </tr>\n",
       "    <tr>\n",
       "      <th>2021-06-12</th>\n",
       "      <td>37331.98</td>\n",
       "      <td>37331.98</td>\n",
       "      <td>37463.63</td>\n",
       "      <td>37463.63</td>\n",
       "      <td>34600.36</td>\n",
       "      <td>34600.36</td>\n",
       "      <td>35546.11</td>\n",
       "      <td>35546.11</td>\n",
       "      <td>87717.549990</td>\n",
       "      <td>87717.549990</td>\n",
       "      <td>...</td>\n",
       "      <td>-85.946499</td>\n",
       "      <td>0.000000</td>\n",
       "      <td>38659.012654</td>\n",
       "      <td>0.000000</td>\n",
       "      <td>78.626275</td>\n",
       "      <td>49.467008</td>\n",
       "      <td>29.159267</td>\n",
       "      <td>-8.904175</td>\n",
       "      <td>-9.325822</td>\n",
       "      <td>-11.134725</td>\n",
       "    </tr>\n",
       "    <tr>\n",
       "      <th>...</th>\n",
       "      <td>...</td>\n",
       "      <td>...</td>\n",
       "      <td>...</td>\n",
       "      <td>...</td>\n",
       "      <td>...</td>\n",
       "      <td>...</td>\n",
       "      <td>...</td>\n",
       "      <td>...</td>\n",
       "      <td>...</td>\n",
       "      <td>...</td>\n",
       "      <td>...</td>\n",
       "      <td>...</td>\n",
       "      <td>...</td>\n",
       "      <td>...</td>\n",
       "      <td>...</td>\n",
       "      <td>...</td>\n",
       "      <td>...</td>\n",
       "      <td>...</td>\n",
       "      <td>...</td>\n",
       "      <td>...</td>\n",
       "      <td>...</td>\n",
       "    </tr>\n",
       "    <tr>\n",
       "      <th>2018-09-25</th>\n",
       "      <td>6581.42</td>\n",
       "      <td>6581.42</td>\n",
       "      <td>6584.01</td>\n",
       "      <td>6584.01</td>\n",
       "      <td>6325.02</td>\n",
       "      <td>6325.02</td>\n",
       "      <td>6447.54</td>\n",
       "      <td>6447.54</td>\n",
       "      <td>40301.029452</td>\n",
       "      <td>40301.029452</td>\n",
       "      <td>...</td>\n",
       "      <td>-74.984687</td>\n",
       "      <td>-22.956824</td>\n",
       "      <td>6552.687547</td>\n",
       "      <td>-2.535350</td>\n",
       "      <td>12.413258</td>\n",
       "      <td>6.393279</td>\n",
       "      <td>6.019979</td>\n",
       "      <td>-0.271921</td>\n",
       "      <td>-0.272291</td>\n",
       "      <td>-83.881150</td>\n",
       "    </tr>\n",
       "    <tr>\n",
       "      <th>2018-09-24</th>\n",
       "      <td>6706.81</td>\n",
       "      <td>6706.81</td>\n",
       "      <td>6730.00</td>\n",
       "      <td>6730.00</td>\n",
       "      <td>6557.00</td>\n",
       "      <td>6557.00</td>\n",
       "      <td>6581.39</td>\n",
       "      <td>6581.39</td>\n",
       "      <td>35305.739910</td>\n",
       "      <td>35305.739910</td>\n",
       "      <td>...</td>\n",
       "      <td>-47.656090</td>\n",
       "      <td>-9.017206</td>\n",
       "      <td>6552.849869</td>\n",
       "      <td>-0.195321</td>\n",
       "      <td>12.556439</td>\n",
       "      <td>7.625911</td>\n",
       "      <td>4.930528</td>\n",
       "      <td>2.075986</td>\n",
       "      <td>2.054731</td>\n",
       "      <td>-83.546525</td>\n",
       "    </tr>\n",
       "    <tr>\n",
       "      <th>2018-09-23</th>\n",
       "      <td>6723.05</td>\n",
       "      <td>6723.05</td>\n",
       "      <td>6788.23</td>\n",
       "      <td>6788.23</td>\n",
       "      <td>6661.75</td>\n",
       "      <td>6661.75</td>\n",
       "      <td>6708.00</td>\n",
       "      <td>6708.00</td>\n",
       "      <td>30286.229773</td>\n",
       "      <td>30286.229773</td>\n",
       "      <td>...</td>\n",
       "      <td>-21.805709</td>\n",
       "      <td>-5.890000</td>\n",
       "      <td>6560.724825</td>\n",
       "      <td>1.090323</td>\n",
       "      <td>11.227231</td>\n",
       "      <td>8.346175</td>\n",
       "      <td>2.881056</td>\n",
       "      <td>1.923758</td>\n",
       "      <td>1.905487</td>\n",
       "      <td>-83.230000</td>\n",
       "    </tr>\n",
       "    <tr>\n",
       "      <th>2018-09-22</th>\n",
       "      <td>6759.01</td>\n",
       "      <td>6759.01</td>\n",
       "      <td>6839.03</td>\n",
       "      <td>6839.03</td>\n",
       "      <td>6627.00</td>\n",
       "      <td>6627.00</td>\n",
       "      <td>6723.05</td>\n",
       "      <td>6723.05</td>\n",
       "      <td>29349.690667</td>\n",
       "      <td>29349.690667</td>\n",
       "      <td>...</td>\n",
       "      <td>-22.563763</td>\n",
       "      <td>17.150941</td>\n",
       "      <td>6568.931749</td>\n",
       "      <td>1.960329</td>\n",
       "      <td>9.820924</td>\n",
       "      <td>8.641125</td>\n",
       "      <td>1.179799</td>\n",
       "      <td>0.224359</td>\n",
       "      <td>0.224108</td>\n",
       "      <td>-83.192375</td>\n",
       "    </tr>\n",
       "    <tr>\n",
       "      <th>2018-09-21</th>\n",
       "      <td>6492.00</td>\n",
       "      <td>6492.00</td>\n",
       "      <td>6784.86</td>\n",
       "      <td>6784.86</td>\n",
       "      <td>6491.00</td>\n",
       "      <td>6491.00</td>\n",
       "      <td>6759.02</td>\n",
       "      <td>6759.02</td>\n",
       "      <td>51779.343463</td>\n",
       "      <td>51779.343463</td>\n",
       "      <td>...</td>\n",
       "      <td>-15.565845</td>\n",
       "      <td>48.056618</td>\n",
       "      <td>6576.010701</td>\n",
       "      <td>3.825192</td>\n",
       "      <td>14.107453</td>\n",
       "      <td>9.734390</td>\n",
       "      <td>4.373063</td>\n",
       "      <td>0.535025</td>\n",
       "      <td>0.533599</td>\n",
       "      <td>-83.102450</td>\n",
       "    </tr>\n",
       "  </tbody>\n",
       "</table>\n",
       "<p>1000 rows × 93 columns</p>\n",
       "</div>"
      ],
      "text/plain": [
       "            1a. open (USD)  1b. open (USD)  2a. high (USD)  2b. high (USD)  \\\n",
       "date                                                                         \n",
       "2021-06-16        40143.80        40143.80        40154.34        40154.34   \n",
       "2021-06-15        40516.28        40516.28        41330.00        41330.00   \n",
       "2021-06-14        39020.56        39020.56        41064.05        41064.05   \n",
       "2021-06-13        35546.12        35546.12        39380.00        39380.00   \n",
       "2021-06-12        37331.98        37331.98        37463.63        37463.63   \n",
       "...                    ...             ...             ...             ...   \n",
       "2018-09-25         6581.42         6581.42         6584.01         6584.01   \n",
       "2018-09-24         6706.81         6706.81         6730.00         6730.00   \n",
       "2018-09-23         6723.05         6723.05         6788.23         6788.23   \n",
       "2018-09-22         6759.01         6759.01         6839.03         6839.03   \n",
       "2018-09-21         6492.00         6492.00         6784.86         6784.86   \n",
       "\n",
       "            3a. low (USD)  3b. low (USD)  4a. close (USD)  4b. close (USD)  \\\n",
       "date                                                                         \n",
       "2021-06-16       39910.24       39910.24         40000.00         40000.00   \n",
       "2021-06-15       39506.40       39506.40         40144.04         40144.04   \n",
       "2021-06-14       38730.00       38730.00         40516.29         40516.29   \n",
       "2021-06-13       34757.00       34757.00         39020.57         39020.57   \n",
       "2021-06-12       34600.36       34600.36         35546.11         35546.11   \n",
       "...                   ...            ...              ...              ...   \n",
       "2018-09-25        6325.02        6325.02          6447.54          6447.54   \n",
       "2018-09-24        6557.00        6557.00          6581.39          6581.39   \n",
       "2018-09-23        6661.75        6661.75          6708.00          6708.00   \n",
       "2018-09-22        6627.00        6627.00          6723.05          6723.05   \n",
       "2018-09-21        6491.00        6491.00          6759.02          6759.02   \n",
       "\n",
       "                5. volume  6. market cap (USD)  ...  momentum_wr  momentum_ao  \\\n",
       "date                                            ...                             \n",
       "2021-06-16    1553.183197          1553.183197  ...   -63.228185     0.000000   \n",
       "2021-06-15   80679.622838         80679.622838  ...   -65.033999     0.000000   \n",
       "2021-06-14  108522.391949        108522.391949  ...   -31.296538     0.000000   \n",
       "2021-06-13   86921.025555         86921.025555  ...   -35.135098     0.000000   \n",
       "2021-06-12   87717.549990         87717.549990  ...   -85.946499     0.000000   \n",
       "...                   ...                  ...  ...          ...          ...   \n",
       "2018-09-25   40301.029452         40301.029452  ...   -74.984687   -22.956824   \n",
       "2018-09-24   35305.739910         35305.739910  ...   -47.656090    -9.017206   \n",
       "2018-09-23   30286.229773         30286.229773  ...   -21.805709    -5.890000   \n",
       "2018-09-22   29349.690667         29349.690667  ...   -22.563763    17.150941   \n",
       "2018-09-21   51779.343463         51779.343463  ...   -15.565845    48.056618   \n",
       "\n",
       "            momentum_kama  momentum_roc  momentum_ppo  momentum_ppo_signal  \\\n",
       "date                                                                         \n",
       "2021-06-16   40000.000000      0.000000      0.000000             0.000000   \n",
       "2021-06-15   40064.582399      0.000000     85.132713            17.026543   \n",
       "2021-06-14   40266.680443      0.000000     89.953653            31.611965   \n",
       "2021-06-13   39792.662501      0.000000     84.438097            42.177191   \n",
       "2021-06-12   38659.012654      0.000000     78.626275            49.467008   \n",
       "...                   ...           ...           ...                  ...   \n",
       "2018-09-25    6552.687547     -2.535350     12.413258             6.393279   \n",
       "2018-09-24    6552.849869     -0.195321     12.556439             7.625911   \n",
       "2018-09-23    6560.724825      1.090323     11.227231             8.346175   \n",
       "2018-09-22    6568.931749      1.960329      9.820924             8.641125   \n",
       "2018-09-21    6576.010701      3.825192     14.107453             9.734390   \n",
       "\n",
       "            momentum_ppo_hist   others_dr  others_dlr  others_cr  \n",
       "date                                                              \n",
       "2021-06-16           0.000000  164.574330    0.000000   0.000000  \n",
       "2021-06-15          68.106170    0.360100    0.359453   0.360100  \n",
       "2021-06-14          58.341688    0.927286    0.923013   1.290725  \n",
       "2021-06-13          42.260906   -3.691651   -3.761517  -2.448575  \n",
       "2021-06-12          29.159267   -8.904175   -9.325822 -11.134725  \n",
       "...                       ...         ...         ...        ...  \n",
       "2018-09-25           6.019979   -0.271921   -0.272291 -83.881150  \n",
       "2018-09-24           4.930528    2.075986    2.054731 -83.546525  \n",
       "2018-09-23           2.881056    1.923758    1.905487 -83.230000  \n",
       "2018-09-22           1.179799    0.224359    0.224108 -83.192375  \n",
       "2018-09-21           4.373063    0.535025    0.533599 -83.102450  \n",
       "\n",
       "[1000 rows x 93 columns]"
      ]
     },
     "execution_count": 8,
     "metadata": {},
     "output_type": "execute_result"
    }
   ],
   "source": [
    "tech"
   ]
  },
  {
   "cell_type": "code",
   "execution_count": 9,
   "metadata": {},
   "outputs": [
    {
     "data": {
      "text/plain": [
       "Index(['1a. open (USD)', '1b. open (USD)', '2a. high (USD)', '2b. high (USD)',\n",
       "       '3a. low (USD)', '3b. low (USD)', '4a. close (USD)', '4b. close (USD)',\n",
       "       '5. volume', '6. market cap (USD)', 'volume_adi', 'volume_obv',\n",
       "       'volume_cmf', 'volume_fi', 'volume_mfi', 'volume_em', 'volume_sma_em',\n",
       "       'volume_vpt', 'volume_nvi', 'volume_vwap', 'volatility_atr',\n",
       "       'volatility_bbm', 'volatility_bbh', 'volatility_bbl', 'volatility_bbw',\n",
       "       'volatility_bbp', 'volatility_bbhi', 'volatility_bbli',\n",
       "       'volatility_kcc', 'volatility_kch', 'volatility_kcl', 'volatility_kcw',\n",
       "       'volatility_kcp', 'volatility_kchi', 'volatility_kcli',\n",
       "       'volatility_dcl', 'volatility_dch', 'volatility_dcm', 'volatility_dcw',\n",
       "       'volatility_dcp', 'volatility_ui', 'trend_macd', 'trend_macd_signal',\n",
       "       'trend_macd_diff', 'trend_sma_fast', 'trend_sma_slow', 'trend_ema_fast',\n",
       "       'trend_ema_slow', 'trend_adx', 'trend_adx_pos', 'trend_adx_neg',\n",
       "       'trend_vortex_ind_pos', 'trend_vortex_ind_neg', 'trend_vortex_ind_diff',\n",
       "       'trend_trix', 'trend_mass_index', 'trend_cci', 'trend_dpo', 'trend_kst',\n",
       "       'trend_kst_sig', 'trend_kst_diff', 'trend_ichimoku_conv',\n",
       "       'trend_ichimoku_base', 'trend_ichimoku_a', 'trend_ichimoku_b',\n",
       "       'trend_visual_ichimoku_a', 'trend_visual_ichimoku_b', 'trend_aroon_up',\n",
       "       'trend_aroon_down', 'trend_aroon_ind', 'trend_psar_up',\n",
       "       'trend_psar_down', 'trend_psar_up_indicator',\n",
       "       'trend_psar_down_indicator', 'trend_stc', 'momentum_rsi',\n",
       "       'momentum_stoch_rsi', 'momentum_stoch_rsi_k', 'momentum_stoch_rsi_d',\n",
       "       'momentum_tsi', 'momentum_uo', 'momentum_stoch',\n",
       "       'momentum_stoch_signal', 'momentum_wr', 'momentum_ao', 'momentum_kama',\n",
       "       'momentum_roc', 'momentum_ppo', 'momentum_ppo_signal',\n",
       "       'momentum_ppo_hist', 'others_dr', 'others_dlr', 'others_cr'],\n",
       "      dtype='object')"
      ]
     },
     "execution_count": 9,
     "metadata": {},
     "output_type": "execute_result"
    }
   ],
   "source": [
    "#Review columns\n",
    "tech.columns"
   ]
  },
  {
   "cell_type": "code",
   "execution_count": 10,
   "metadata": {},
   "outputs": [],
   "source": [
    "#Filter for desired indicators/market data\n",
    "final = tech.filter(items=['4a. close (USD)', '5. volume', 'trend_sma_fast', 'trend_sma_slow', 'trend_adx', 'volume_obv', 'trend_ema_fast','trend_ema_slow', 'trend_macd', 'momentum_rsi', 'trend_aroon_ind'])\n"
   ]
  },
  {
   "cell_type": "code",
   "execution_count": 11,
   "metadata": {},
   "outputs": [],
   "source": [
    "#Rename columns\n",
    "final.rename({'4a. close (USD)': \"close_price_USD\"}, inplace=True, axis = 1)\n",
    "final.rename({'5. volume':\"volume\"}, inplace=True, axis = 1)"
   ]
  },
  {
   "cell_type": "code",
   "execution_count": 12,
   "metadata": {},
   "outputs": [
    {
     "data": {
      "text/html": [
       "<div>\n",
       "<style scoped>\n",
       "    .dataframe tbody tr th:only-of-type {\n",
       "        vertical-align: middle;\n",
       "    }\n",
       "\n",
       "    .dataframe tbody tr th {\n",
       "        vertical-align: top;\n",
       "    }\n",
       "\n",
       "    .dataframe thead th {\n",
       "        text-align: right;\n",
       "    }\n",
       "</style>\n",
       "<table border=\"1\" class=\"dataframe\">\n",
       "  <thead>\n",
       "    <tr style=\"text-align: right;\">\n",
       "      <th></th>\n",
       "      <th>close_price_USD</th>\n",
       "      <th>volume</th>\n",
       "      <th>trend_sma_fast</th>\n",
       "      <th>trend_sma_slow</th>\n",
       "      <th>trend_adx</th>\n",
       "      <th>volume_obv</th>\n",
       "      <th>trend_ema_fast</th>\n",
       "      <th>trend_ema_slow</th>\n",
       "      <th>trend_macd</th>\n",
       "      <th>momentum_rsi</th>\n",
       "      <th>trend_aroon_ind</th>\n",
       "    </tr>\n",
       "    <tr>\n",
       "      <th>date</th>\n",
       "      <th></th>\n",
       "      <th></th>\n",
       "      <th></th>\n",
       "      <th></th>\n",
       "      <th></th>\n",
       "      <th></th>\n",
       "      <th></th>\n",
       "      <th></th>\n",
       "      <th></th>\n",
       "      <th></th>\n",
       "      <th></th>\n",
       "    </tr>\n",
       "  </thead>\n",
       "  <tbody>\n",
       "    <tr>\n",
       "      <th>2021-06-16</th>\n",
       "      <td>40000.00</td>\n",
       "      <td>1553.183197</td>\n",
       "      <td>40000.000000</td>\n",
       "      <td>40000.000000</td>\n",
       "      <td>0.000000</td>\n",
       "      <td>1.553183e+03</td>\n",
       "      <td>40000.000000</td>\n",
       "      <td>40000.000000</td>\n",
       "      <td>0.000000</td>\n",
       "      <td>100.000000</td>\n",
       "      <td>0.0</td>\n",
       "    </tr>\n",
       "    <tr>\n",
       "      <th>2021-06-15</th>\n",
       "      <td>40144.04</td>\n",
       "      <td>80679.622838</td>\n",
       "      <td>40072.020000</td>\n",
       "      <td>40072.020000</td>\n",
       "      <td>0.000000</td>\n",
       "      <td>8.223281e+04</td>\n",
       "      <td>40022.160000</td>\n",
       "      <td>40010.669630</td>\n",
       "      <td>11.490370</td>\n",
       "      <td>100.000000</td>\n",
       "      <td>4.0</td>\n",
       "    </tr>\n",
       "    <tr>\n",
       "      <th>2021-06-14</th>\n",
       "      <td>40516.29</td>\n",
       "      <td>108522.391949</td>\n",
       "      <td>40220.110000</td>\n",
       "      <td>40220.110000</td>\n",
       "      <td>0.000000</td>\n",
       "      <td>1.907552e+05</td>\n",
       "      <td>40098.180000</td>\n",
       "      <td>40048.122990</td>\n",
       "      <td>50.057010</td>\n",
       "      <td>100.000000</td>\n",
       "      <td>8.0</td>\n",
       "    </tr>\n",
       "    <tr>\n",
       "      <th>2021-06-13</th>\n",
       "      <td>39020.57</td>\n",
       "      <td>86921.025555</td>\n",
       "      <td>39920.225000</td>\n",
       "      <td>39920.225000</td>\n",
       "      <td>0.000000</td>\n",
       "      <td>1.038342e+05</td>\n",
       "      <td>39932.393846</td>\n",
       "      <td>39972.007954</td>\n",
       "      <td>-39.614108</td>\n",
       "      <td>23.904335</td>\n",
       "      <td>-4.0</td>\n",
       "    </tr>\n",
       "    <tr>\n",
       "      <th>2021-06-12</th>\n",
       "      <td>35546.11</td>\n",
       "      <td>87717.549990</td>\n",
       "      <td>39045.402000</td>\n",
       "      <td>39045.402000</td>\n",
       "      <td>0.000000</td>\n",
       "      <td>1.611662e+04</td>\n",
       "      <td>39257.580947</td>\n",
       "      <td>39644.163661</td>\n",
       "      <td>-386.582714</td>\n",
       "      <td>8.232581</td>\n",
       "      <td>-8.0</td>\n",
       "    </tr>\n",
       "    <tr>\n",
       "      <th>...</th>\n",
       "      <td>...</td>\n",
       "      <td>...</td>\n",
       "      <td>...</td>\n",
       "      <td>...</td>\n",
       "      <td>...</td>\n",
       "      <td>...</td>\n",
       "      <td>...</td>\n",
       "      <td>...</td>\n",
       "      <td>...</td>\n",
       "      <td>...</td>\n",
       "      <td>...</td>\n",
       "    </tr>\n",
       "    <tr>\n",
       "      <th>2018-09-25</th>\n",
       "      <td>6447.54</td>\n",
       "      <td>40301.029452</td>\n",
       "      <td>6577.535833</td>\n",
       "      <td>6566.083462</td>\n",
       "      <td>51.020666</td>\n",
       "      <td>-4.728642e+06</td>\n",
       "      <td>6560.945899</td>\n",
       "      <td>6515.822060</td>\n",
       "      <td>45.123838</td>\n",
       "      <td>46.665076</td>\n",
       "      <td>-20.0</td>\n",
       "    </tr>\n",
       "    <tr>\n",
       "      <th>2018-09-24</th>\n",
       "      <td>6581.39</td>\n",
       "      <td>35305.739910</td>\n",
       "      <td>6576.462500</td>\n",
       "      <td>6565.813846</td>\n",
       "      <td>49.838311</td>\n",
       "      <td>-4.693336e+06</td>\n",
       "      <td>6564.091145</td>\n",
       "      <td>6520.678945</td>\n",
       "      <td>43.412200</td>\n",
       "      <td>53.502285</td>\n",
       "      <td>-20.0</td>\n",
       "    </tr>\n",
       "    <tr>\n",
       "      <th>2018-09-23</th>\n",
       "      <td>6708.00</td>\n",
       "      <td>30286.229773</td>\n",
       "      <td>6582.491667</td>\n",
       "      <td>6572.703077</td>\n",
       "      <td>48.981136</td>\n",
       "      <td>-4.663050e+06</td>\n",
       "      <td>6586.230969</td>\n",
       "      <td>6534.554579</td>\n",
       "      <td>51.676390</td>\n",
       "      <td>58.872961</td>\n",
       "      <td>-20.0</td>\n",
       "    </tr>\n",
       "    <tr>\n",
       "      <th>2018-09-22</th>\n",
       "      <td>6723.05</td>\n",
       "      <td>29349.690667</td>\n",
       "      <td>6593.263333</td>\n",
       "      <td>6576.706538</td>\n",
       "      <td>48.389835</td>\n",
       "      <td>-4.633700e+06</td>\n",
       "      <td>6607.280051</td>\n",
       "      <td>6548.517202</td>\n",
       "      <td>58.762848</td>\n",
       "      <td>59.472204</td>\n",
       "      <td>-20.0</td>\n",
       "    </tr>\n",
       "    <tr>\n",
       "      <th>2018-09-21</th>\n",
       "      <td>6759.02</td>\n",
       "      <td>51779.343463</td>\n",
       "      <td>6614.015000</td>\n",
       "      <td>6577.403846</td>\n",
       "      <td>46.661926</td>\n",
       "      <td>-4.581921e+06</td>\n",
       "      <td>6630.624658</td>\n",
       "      <td>6564.110002</td>\n",
       "      <td>66.514656</td>\n",
       "      <td>60.937173</td>\n",
       "      <td>80.0</td>\n",
       "    </tr>\n",
       "  </tbody>\n",
       "</table>\n",
       "<p>1000 rows × 11 columns</p>\n",
       "</div>"
      ],
      "text/plain": [
       "            close_price_USD         volume  trend_sma_fast  trend_sma_slow  \\\n",
       "date                                                                         \n",
       "2021-06-16         40000.00    1553.183197    40000.000000    40000.000000   \n",
       "2021-06-15         40144.04   80679.622838    40072.020000    40072.020000   \n",
       "2021-06-14         40516.29  108522.391949    40220.110000    40220.110000   \n",
       "2021-06-13         39020.57   86921.025555    39920.225000    39920.225000   \n",
       "2021-06-12         35546.11   87717.549990    39045.402000    39045.402000   \n",
       "...                     ...            ...             ...             ...   \n",
       "2018-09-25          6447.54   40301.029452     6577.535833     6566.083462   \n",
       "2018-09-24          6581.39   35305.739910     6576.462500     6565.813846   \n",
       "2018-09-23          6708.00   30286.229773     6582.491667     6572.703077   \n",
       "2018-09-22          6723.05   29349.690667     6593.263333     6576.706538   \n",
       "2018-09-21          6759.02   51779.343463     6614.015000     6577.403846   \n",
       "\n",
       "            trend_adx    volume_obv  trend_ema_fast  trend_ema_slow  \\\n",
       "date                                                                  \n",
       "2021-06-16   0.000000  1.553183e+03    40000.000000    40000.000000   \n",
       "2021-06-15   0.000000  8.223281e+04    40022.160000    40010.669630   \n",
       "2021-06-14   0.000000  1.907552e+05    40098.180000    40048.122990   \n",
       "2021-06-13   0.000000  1.038342e+05    39932.393846    39972.007954   \n",
       "2021-06-12   0.000000  1.611662e+04    39257.580947    39644.163661   \n",
       "...               ...           ...             ...             ...   \n",
       "2018-09-25  51.020666 -4.728642e+06     6560.945899     6515.822060   \n",
       "2018-09-24  49.838311 -4.693336e+06     6564.091145     6520.678945   \n",
       "2018-09-23  48.981136 -4.663050e+06     6586.230969     6534.554579   \n",
       "2018-09-22  48.389835 -4.633700e+06     6607.280051     6548.517202   \n",
       "2018-09-21  46.661926 -4.581921e+06     6630.624658     6564.110002   \n",
       "\n",
       "            trend_macd  momentum_rsi  trend_aroon_ind  \n",
       "date                                                   \n",
       "2021-06-16    0.000000    100.000000              0.0  \n",
       "2021-06-15   11.490370    100.000000              4.0  \n",
       "2021-06-14   50.057010    100.000000              8.0  \n",
       "2021-06-13  -39.614108     23.904335             -4.0  \n",
       "2021-06-12 -386.582714      8.232581             -8.0  \n",
       "...                ...           ...              ...  \n",
       "2018-09-25   45.123838     46.665076            -20.0  \n",
       "2018-09-24   43.412200     53.502285            -20.0  \n",
       "2018-09-23   51.676390     58.872961            -20.0  \n",
       "2018-09-22   58.762848     59.472204            -20.0  \n",
       "2018-09-21   66.514656     60.937173             80.0  \n",
       "\n",
       "[1000 rows x 11 columns]"
      ]
     },
     "execution_count": 12,
     "metadata": {},
     "output_type": "execute_result"
    }
   ],
   "source": [
    "final"
   ]
  },
  {
   "cell_type": "code",
   "execution_count": 13,
   "metadata": {},
   "outputs": [],
   "source": [
    "#Export CSV\n",
    "#final.to_csv('ds_3000.csv', index = True)"
   ]
  },
  {
   "cell_type": "code",
   "execution_count": 22,
   "metadata": {},
   "outputs": [
    {
     "data": {
      "application/vnd.plotly.v1+json": {
       "config": {
        "plotlyServerURL": "https://plot.ly"
       },
       "data": [
        {
         "alignmentgroup": "True",
         "bingroup": "x",
         "hovertemplate": "close_price_USD=%{x}<br>count=%{y}<extra></extra>",
         "legendgroup": "",
         "marker": {
          "color": "gold"
         },
         "name": "",
         "offsetgroup": "",
         "orientation": "v",
         "showlegend": false,
         "type": "histogram",
         "x": [
          40000,
          40144.04,
          40516.29,
          39020.57,
          35546.11,
          37331.98,
          36675.72,
          37388.05,
          33380.81,
          33552.79,
          35796.31,
          35513.2,
          36829,
          39246.79,
          37568.68,
          36693.09,
          37253.81,
          35641.27,
          34605.15,
          35663.49,
          38529.98,
          39241.91,
          38324.72,
          38796.29,
          34655.25,
          37449.73,
          37252.01,
          40526.64,
          36690.09,
          42849.78,
          43538.04,
          46431.5,
          46762.99,
          49841.45,
          49670.97,
          49631.32,
          56670.02,
          55816.14,
          58240.84,
          58862.05,
          57314.75,
          56393.68,
          57436.11,
          53200.01,
          57169.39,
          56578.21,
          57800.37,
          57694.27,
          53555,
          54846.22,
          55011.97,
          54001.39,
          49066.77,
          50047.84,
          51125.14,
          51690.96,
          53787.63,
          56425,
          55633.14,
          56150.01,
          60006.66,
          61334.8,
          63159.98,
          62959.53,
          63575,
          59860,
          60002.43,
          59769.13,
          58142.54,
          58077.52,
          55953.45,
          57991.15,
          59129.99,
          58202.01,
          57051.94,
          58950.01,
          58720.44,
          58740.55,
          58746.57,
          57635.47,
          55777.63,
          55817.14,
          55025.59,
          51293.78,
          52303.65,
          54340.89,
          54083.25,
          57351.56,
          58102.28,
          58030.01,
          57648.16,
          58912.97,
          56900.75,
          55605.2,
          58968.31,
          61188.39,
          57221.72,
          57773.16,
          55851.59,
          54884.5,
          52375.17,
          50971.75,
          48882.2,
          48751.71,
          48374.09,
          50349.37,
          48440.65,
          49587.03,
          45135.66,
          46106.43,
          46276.87,
          47073.73,
          49676.2,
          48891,
          54087.67,
          57408.57,
          55841.19,
          55906,
          51552.6,
          52119.71,
          49133.45,
          47911.1,
          48577.79,
          47153.69,
          47287.6,
          47969.51,
          44807.58,
          46420.42,
          46374.87,
          38795.69,
          39186.94,
          38290.24,
          36936.66,
          37618.87,
          35466.24,
          33526.37,
          33092.98,
          34262.88,
          34252.2,
          33364.86,
          30366.15,
          32467.77,
          32254.2,
          32259.9,
          32078,
          32945.17,
          30850.13,
          35468.23,
          35891.49,
          36631.27,
          35828.61,
          35994.98,
          36742.22,
          39144.5,
          37371.38,
          34051.24,
          35404.47,
          38150.02,
          40088.22,
          40582.81,
          39432.28,
          36769.36,
          33949.53,
          31988.71,
          33000.05,
          32178.33,
          29331.69,
          28923.63,
          28875.54,
          27385,
          27079.41,
          26281.66,
          26493.39,
          24712.47,
          23729.2,
          23232.76,
          23810.79,
          22719.71,
          23455.52,
          23821.61,
          23107.39,
          22797.16,
          21335.52,
          19426.43,
          19273.14,
          19174.99,
          18808.69,
          18036.53,
          18254.63,
          18541.28,
          18324.11,
          19166.9,
          19359.4,
          19147.66,
          18650.52,
          19421.9,
          19204.09,
          18764.96,
          19695.87,
          18184.99,
          17719.85,
          17139.52,
          17149.47,
          18719.11,
          19160.01,
          18368,
          18414.43,
          18703.8,
          18655.67,
          17802.82,
          17776.12,
          17659.38,
          16713.57,
          15957,
          16070.45,
          16320.7,
          16291.86,
          15684.24,
          15297.21,
          15328.41,
          15475.1,
          14818.3,
          15579.92,
          15590.02,
          14144.01,
          14023.53,
          13549.37,
          13761.5,
          13791,
          13560.1,
          13455.7,
          13266.4,
          13636.17,
          13052.19,
          13028.83,
          13111.73,
          12923.07,
          12968.52,
          12780.96,
          11909.99,
          11751.47,
          11503.14,
          11360.2,
          11319.32,
          11505.12,
          11417.89,
          11420.56,
          11528.25,
          11369.02,
          11293.22,
          11050.64,
          10925.57,
          10666.39,
          10599.66,
          10792.21,
          10666.63,
          10542.06,
          10570.4,
          10619.13,
          10776.59,
          10840.48,
          10696.12,
          10774.25,
          10728.6,
          10686.67,
          10736.32,
          10241.46,
          10529.61,
          10417.22,
          10920.28,
          11080.65,
          10933.39,
          10939.99,
          10954.01,
          10785.31,
          10671.77,
          10332.83,
          10440.92,
          10387.89,
          10336.87,
          10219.2,
          10126.65,
          10373.44,
          10256.2,
          10166.69,
          10446.25,
          10140.85,
          11388.54,
          11921.97,
          11649.51,
          11711.16,
          11465.84,
          11526.91,
          11330.38,
          11461.43,
          11318.42,
          11748.2,
          11648.13,
          11662.96,
          11531.34,
          11853.55,
          11754.59,
          11945.01,
          12281.13,
          11911,
          11852.4,
          11760.54,
          11780,
          11564.33,
          11392.08,
          11892.92,
          11681.68,
          11761.41,
          11594.23,
          11762.46,
          11744.91,
          11191.97,
          11219.81,
          11071.35,
          11801.17,
          11335.46,
          11099.61,
          11100.53,
          10906.27,
          11029.96,
          9931.54,
          9700.42,
          9537.8,
          9603.27,
          9518.16,
          9390,
          9160.78,
          9208.99,
          9170.28,
          9154.32,
          9133.72,
          9197.6,
          9255.85,
          9242.62,
          9302.75,
          9234.03,
          9288.34,
          9232.43,
          9436.06,
          9257.39,
          9344.2,
          9069.41,
          9135.46,
          9058.26,
          9086.54,
          9232,
          9138.55,
          9192.56,
          9116.35,
          9012,
          9162.21,
          9249.49,
          9296.49,
          9624.89,
          9685.69,
          9294.69,
          9358.95,
          9310.23,
          9386.32,
          9465.14,
          9525.59,
          9426.02,
          9342.1,
          9473.34,
          9465.13,
          9280.4,
          9885,
          9772.43,
          9782.01,
          9746.99,
          9666.3,
          9621.16,
          9789.06,
          9666.24,
          9518.04,
          10200.77,
          9448.27,
          9697.72,
          9427.07,
          9575.89,
          9204.07,
          8841.18,
          8900.35,
          8720.34,
          9179.15,
          9170,
          9068.65,
          9511.43,
          9775.53,
          9733.93,
          9680.04,
          9381.27,
          9316.42,
          9791.98,
          9309.37,
          8810.79,
          8561.52,
          8722.77,
          9539.4,
          9800.01,
          9986.4,
          9142.92,
          9021.83,
          8871.96,
          8894.16,
          8972.05,
          8826.96,
          8620,
          8778.57,
          7738.98,
          7774.62,
          7693.1,
          7538.67,
          7505,
          7482.39,
          7125.14,
          6841.37,
          6826.83,
          7120.74,
          7248.6,
          7027.55,
          7101.94,
          6621.24,
          6868.7,
          6837.91,
          6903.79,
          6876.83,
          6858.92,
          7283.54,
          7361.28,
          7197.32,
          7329.9,
          6772.78,
          6856.99,
          6734.1,
          6794.09,
          6642.92,
          6410.44,
          6394.38,
          5881.42,
          6236.65,
          6359.11,
          6737.36,
          6677.43,
          6744.72,
          6467.31,
          5816.19,
          6186.98,
          6208.36,
          6162.37,
          5393.04,
          5312.64,
          5028.97,
          5361.3,
          5172.06,
          5578.6,
          4800,
          7934.52,
          7894.56,
          7929.87,
          8033.31,
          8886.66,
          9131.88,
          9054.68,
          8750.87,
          8760.07,
          8915.24,
          8531.88,
          8523.61,
          8692.91,
          8823.21,
          8785.25,
          9315.84,
          9656.13,
          9936.4,
          9650.86,
          9677.05,
          9596.42,
          9593.79,
          10164.71,
          9706,
          9917.27,
          9904.72,
          10344.36,
          10229.63,
          10326.46,
          10223.08,
          9851.83,
          10151.75,
          9895.05,
          9813.73,
          9772,
          9612.04,
          9197.02,
          9292.24,
          9331.51,
          9384.61,
          9352.89,
          9513.21,
          9301.53,
          9374.21,
          8907.57,
          8615,
          8340.58,
          8439,
          8404.52,
          8682.36,
          8736.03,
          8642.35,
          8701.7,
          8915.96,
          8913.28,
          8720.01,
          8821.41,
          8810.01,
          8110.34,
          8184.98,
          8020.01,
          8197.02,
          7817.76,
          8055.98,
          8145.28,
          7758,
          7358.75,
          7354.11,
          7344.96,
          6965.71,
          7200.85,
          7195.23,
          7246,
          7388.24,
          7316.14,
          7254.74,
          7202,
          7204.63,
          7255.77,
          7317.09,
          7501.44,
          7132.75,
          7187.83,
          7150.3,
          7277.83,
          6623.82,
          6891.72,
          7118.59,
          7064.05,
          7258.48,
          7198.08,
          7210,
          7224.13,
          7338.64,
          7510.11,
          7488.21,
          7527.47,
          7389,
          7194.32,
          7292.71,
          7294.28,
          7390.89,
          7541.89,
          7739.68,
          7419.49,
          7508.52,
          7156.14,
          7109.57,
          6903.28,
          7311.57,
          7268.23,
          7627.74,
          8098.01,
          8133.64,
          8187.17,
          8502.4,
          8491.02,
          8471.73,
          8646.68,
          8777.12,
          8821.94,
          8733.27,
          9039.47,
          8809.41,
          8773.73,
          9216.2,
          9339.05,
          9308.66,
          9393.35,
          9194.71,
          9289.52,
          9231.61,
          9140.85,
          9154.72,
          9407.62,
          9205.14,
          9529.93,
          9230,
          8655.02,
          7412.41,
          7466.62,
          8020,
          8197.27,
          8223.35,
          7948.01,
          7947.01,
          8070.58,
          7991.74,
          8159.29,
          8348.2,
          8275.01,
          8300.09,
          8258.5,
          8558.03,
          8560.74,
          8168.39,
          8190.09,
          7854.25,
          8126.19,
          8137.13,
          8223.96,
          8359.94,
          8292.44,
          8289.34,
          8043.82,
          8198.81,
          8177.91,
          8063.73,
          8430.05,
          8493.14,
          9702.25,
          10028.87,
          9986.39,
          10168.59,
          10244.29,
          10156.99,
          10187.82,
          10251.31,
          10302.01,
          10335.02,
          10342.06,
          10415.01,
          10158.33,
          10098.15,
          10303.12,
          10381.18,
          10455.88,
          10298.73,
          10564.49,
          10567.02,
          10615.28,
          10340,
          9724.98,
          9587.47,
          9584.54,
          9498.44,
          9721,
          10185.05,
          10372.25,
          10142.69,
          10134.35,
          10389.55,
          10099.88,
          10142.57,
          10760.51,
          10915.54,
          10306.78,
          10216.02,
          10331.54,
          10293.93,
          10050.37,
          10892.71,
          11396.08,
          11549.97,
          11309.31,
          11879.99,
          11999.77,
          11975.03,
          11481.69,
          11828.8,
          10929.23,
          10816.86,
          10523.75,
          10374.99,
          10080.53,
          9574.21,
          9507.64,
          9541.54,
          9476.52,
          9824,
          9879.87,
          9763.28,
          9864.91,
          10340.31,
          10589.45,
          10740.23,
          10504.29,
          10627.16,
          9667.92,
          9439.59,
          10838.72,
          10174.18,
          11355.76,
          11757.22,
          11342.89,
          12108.37,
          12543.41,
          12238.6,
          11406.24,
          11256.49,
          10970.73,
          11145.67,
          11940,
          10842.85,
          10624.93,
          10854.1,
          11903.13,
          12400.63,
          11329.99,
          13093.8,
          11820.86,
          11056.59,
          10906.07,
          10729.5,
          10159.86,
          9517.12,
          9255.49,
          9081.55,
          9313.96,
          8953.33,
          8808.7,
          8650,
          8218.54,
          8127.64,
          7884.9,
          7982.75,
          7628.13,
          7893.62,
          7980.53,
          7786.7,
          7776.5,
          7687.03,
          8115.82,
          8725.98,
          8544.07,
          8555,
          8269.54,
          8645.68,
          8715.64,
          8756.32,
          8614.43,
          8025.41,
          7964.87,
          7851.51,
          7628.43,
          7904.87,
          7938.15,
          8148.48,
          7257.45,
          7355.26,
          7866.59,
          8169.87,
          7947.56,
          7790.71,
          6967.31,
          7076.22,
          6373.33,
          6209.18,
          5987.29,
          5846.34,
          5747.79,
          5775.62,
          5829.45,
          5772.69,
          5492.87,
          5383.2,
          5320.81,
          5238.14,
          5307.52,
          5295.69,
          5314.1,
          5219.9,
          5415,
          5493.31,
          5357.14,
          5256.14,
          5291.73,
          5258.68,
          5258.44,
          5202.82,
          5173.72,
          5024.95,
          5131.3,
          5045.22,
          5048.01,
          5017.37,
          5308.25,
          5150,
          5236.9,
          5170.27,
          5043.89,
          5004.95,
          4898.66,
          4932.6,
          4857.29,
          4144.56,
          4103.95,
          4106.97,
          4103.25,
          4027.81,
          4038.05,
          3948.55,
          3936.12,
          3992.18,
          4006.01,
          3986.93,
          3980.64,
          4043.04,
          4015.53,
          3987.81,
          3981.14,
          4005.98,
          3923.76,
          3877.12,
          3866,
          3882.73,
          3871.61,
          3916.82,
          3943.04,
          3864.89,
          3873.64,
          3861.84,
          3857.73,
          3715.3,
          3807.75,
          3819.93,
          3823,
          3813.69,
          3818.07,
          3809.23,
          3827.92,
          3743.56,
          4117.76,
          3962,
          3937.31,
          3969.74,
          3907.79,
          3898.6,
          3667.58,
          3618.41,
          3602.47,
          3590.56,
          3609.4,
          3631.46,
          3631.05,
          3680.06,
          3665.18,
          3659.04,
          3398.4,
          3405.37,
          3471.59,
          3463.22,
          3458.11,
          3504.77,
          3462.07,
          3434.1,
          3458.18,
          3411.04,
          3434.15,
          3550.84,
          3565.25,
          3565.29,
          3569.62,
          3552.82,
          3570.93,
          3526.9,
          3539.28,
          3665.3,
          3594.87,
          3616.21,
          3591.84,
          3553.06,
          3626.09,
          3476.81,
          3583.13,
          3601.31,
          3585.88,
          3966.65,
          3955.13,
          3975.45,
          3987.6,
          3770.96,
          3792.01,
          3766.78,
          3858.56,
          3797.14,
          3702.9,
          3801.91,
          3695.32,
          3839.26,
          3567.91,
          3777.74,
          3745.79,
          4008.01,
          3929.71,
          3948.91,
          3838.66,
          4049.62,
          3662.22,
          3652.98,
          3509.08,
          3228.67,
          3211.72,
          3224.17,
          3302.06,
          3445,
          3380.39,
          3432.88,
          3545.37,
          3410.93,
          3403.55,
          3508.75,
          3769.84,
          3951.64,
          3884.01,
          4161.01,
          4190.02,
          4041.32,
          4295.84,
          4264.85,
          3875.21,
          3862.2,
          4085.78,
          3932.44,
          4420.61,
          4370,
          4661.07,
          4558.86,
          4910.03,
          5662,
          5628.29,
          5655.94,
          5753.4,
          5922.41,
          6457.66,
          6453.07,
          6449.81,
          6433.05,
          6419.99,
          6479.84,
          6578.46,
          6519.11,
          6468.99,
          6485.85,
          6387.09,
          6433.98,
          6410,
          6371.93,
          6330.87,
          6344.5,
          6489.93,
          6505.6,
          6538.63,
          6528.09,
          6565.5,
          6553.51,
          6581.2,
          6590.11,
          6588.4,
          6528.88,
          6618.96,
          6740.89,
          6759.27,
          6752.5,
          6339.34,
          6332.93,
          6298.01,
          6252.68,
          6631,
          6656.61,
          6673.01,
          6615.26,
          6594.27,
          6635.65,
          6593.79,
          6510,
          6525.79,
          6611.61,
          6626.57,
          6596.38,
          6634.58,
          6689.13,
          6465.12,
          6447.54,
          6581.39,
          6708,
          6723.05,
          6759.02
         ],
         "xaxis": "x",
         "yaxis": "y"
        }
       ],
       "layout": {
        "barmode": "relative",
        "legend": {
         "tracegroupgap": 0
        },
        "template": {
         "data": {
          "bar": [
           {
            "error_x": {
             "color": "#2a3f5f"
            },
            "error_y": {
             "color": "#2a3f5f"
            },
            "marker": {
             "line": {
              "color": "#E5ECF6",
              "width": 0.5
             }
            },
            "type": "bar"
           }
          ],
          "barpolar": [
           {
            "marker": {
             "line": {
              "color": "#E5ECF6",
              "width": 0.5
             }
            },
            "type": "barpolar"
           }
          ],
          "carpet": [
           {
            "aaxis": {
             "endlinecolor": "#2a3f5f",
             "gridcolor": "white",
             "linecolor": "white",
             "minorgridcolor": "white",
             "startlinecolor": "#2a3f5f"
            },
            "baxis": {
             "endlinecolor": "#2a3f5f",
             "gridcolor": "white",
             "linecolor": "white",
             "minorgridcolor": "white",
             "startlinecolor": "#2a3f5f"
            },
            "type": "carpet"
           }
          ],
          "choropleth": [
           {
            "colorbar": {
             "outlinewidth": 0,
             "ticks": ""
            },
            "type": "choropleth"
           }
          ],
          "contour": [
           {
            "colorbar": {
             "outlinewidth": 0,
             "ticks": ""
            },
            "colorscale": [
             [
              0,
              "#0d0887"
             ],
             [
              0.1111111111111111,
              "#46039f"
             ],
             [
              0.2222222222222222,
              "#7201a8"
             ],
             [
              0.3333333333333333,
              "#9c179e"
             ],
             [
              0.4444444444444444,
              "#bd3786"
             ],
             [
              0.5555555555555556,
              "#d8576b"
             ],
             [
              0.6666666666666666,
              "#ed7953"
             ],
             [
              0.7777777777777778,
              "#fb9f3a"
             ],
             [
              0.8888888888888888,
              "#fdca26"
             ],
             [
              1,
              "#f0f921"
             ]
            ],
            "type": "contour"
           }
          ],
          "contourcarpet": [
           {
            "colorbar": {
             "outlinewidth": 0,
             "ticks": ""
            },
            "type": "contourcarpet"
           }
          ],
          "heatmap": [
           {
            "colorbar": {
             "outlinewidth": 0,
             "ticks": ""
            },
            "colorscale": [
             [
              0,
              "#0d0887"
             ],
             [
              0.1111111111111111,
              "#46039f"
             ],
             [
              0.2222222222222222,
              "#7201a8"
             ],
             [
              0.3333333333333333,
              "#9c179e"
             ],
             [
              0.4444444444444444,
              "#bd3786"
             ],
             [
              0.5555555555555556,
              "#d8576b"
             ],
             [
              0.6666666666666666,
              "#ed7953"
             ],
             [
              0.7777777777777778,
              "#fb9f3a"
             ],
             [
              0.8888888888888888,
              "#fdca26"
             ],
             [
              1,
              "#f0f921"
             ]
            ],
            "type": "heatmap"
           }
          ],
          "heatmapgl": [
           {
            "colorbar": {
             "outlinewidth": 0,
             "ticks": ""
            },
            "colorscale": [
             [
              0,
              "#0d0887"
             ],
             [
              0.1111111111111111,
              "#46039f"
             ],
             [
              0.2222222222222222,
              "#7201a8"
             ],
             [
              0.3333333333333333,
              "#9c179e"
             ],
             [
              0.4444444444444444,
              "#bd3786"
             ],
             [
              0.5555555555555556,
              "#d8576b"
             ],
             [
              0.6666666666666666,
              "#ed7953"
             ],
             [
              0.7777777777777778,
              "#fb9f3a"
             ],
             [
              0.8888888888888888,
              "#fdca26"
             ],
             [
              1,
              "#f0f921"
             ]
            ],
            "type": "heatmapgl"
           }
          ],
          "histogram": [
           {
            "marker": {
             "colorbar": {
              "outlinewidth": 0,
              "ticks": ""
             }
            },
            "type": "histogram"
           }
          ],
          "histogram2d": [
           {
            "colorbar": {
             "outlinewidth": 0,
             "ticks": ""
            },
            "colorscale": [
             [
              0,
              "#0d0887"
             ],
             [
              0.1111111111111111,
              "#46039f"
             ],
             [
              0.2222222222222222,
              "#7201a8"
             ],
             [
              0.3333333333333333,
              "#9c179e"
             ],
             [
              0.4444444444444444,
              "#bd3786"
             ],
             [
              0.5555555555555556,
              "#d8576b"
             ],
             [
              0.6666666666666666,
              "#ed7953"
             ],
             [
              0.7777777777777778,
              "#fb9f3a"
             ],
             [
              0.8888888888888888,
              "#fdca26"
             ],
             [
              1,
              "#f0f921"
             ]
            ],
            "type": "histogram2d"
           }
          ],
          "histogram2dcontour": [
           {
            "colorbar": {
             "outlinewidth": 0,
             "ticks": ""
            },
            "colorscale": [
             [
              0,
              "#0d0887"
             ],
             [
              0.1111111111111111,
              "#46039f"
             ],
             [
              0.2222222222222222,
              "#7201a8"
             ],
             [
              0.3333333333333333,
              "#9c179e"
             ],
             [
              0.4444444444444444,
              "#bd3786"
             ],
             [
              0.5555555555555556,
              "#d8576b"
             ],
             [
              0.6666666666666666,
              "#ed7953"
             ],
             [
              0.7777777777777778,
              "#fb9f3a"
             ],
             [
              0.8888888888888888,
              "#fdca26"
             ],
             [
              1,
              "#f0f921"
             ]
            ],
            "type": "histogram2dcontour"
           }
          ],
          "mesh3d": [
           {
            "colorbar": {
             "outlinewidth": 0,
             "ticks": ""
            },
            "type": "mesh3d"
           }
          ],
          "parcoords": [
           {
            "line": {
             "colorbar": {
              "outlinewidth": 0,
              "ticks": ""
             }
            },
            "type": "parcoords"
           }
          ],
          "pie": [
           {
            "automargin": true,
            "type": "pie"
           }
          ],
          "scatter": [
           {
            "marker": {
             "colorbar": {
              "outlinewidth": 0,
              "ticks": ""
             }
            },
            "type": "scatter"
           }
          ],
          "scatter3d": [
           {
            "line": {
             "colorbar": {
              "outlinewidth": 0,
              "ticks": ""
             }
            },
            "marker": {
             "colorbar": {
              "outlinewidth": 0,
              "ticks": ""
             }
            },
            "type": "scatter3d"
           }
          ],
          "scattercarpet": [
           {
            "marker": {
             "colorbar": {
              "outlinewidth": 0,
              "ticks": ""
             }
            },
            "type": "scattercarpet"
           }
          ],
          "scattergeo": [
           {
            "marker": {
             "colorbar": {
              "outlinewidth": 0,
              "ticks": ""
             }
            },
            "type": "scattergeo"
           }
          ],
          "scattergl": [
           {
            "marker": {
             "colorbar": {
              "outlinewidth": 0,
              "ticks": ""
             }
            },
            "type": "scattergl"
           }
          ],
          "scattermapbox": [
           {
            "marker": {
             "colorbar": {
              "outlinewidth": 0,
              "ticks": ""
             }
            },
            "type": "scattermapbox"
           }
          ],
          "scatterpolar": [
           {
            "marker": {
             "colorbar": {
              "outlinewidth": 0,
              "ticks": ""
             }
            },
            "type": "scatterpolar"
           }
          ],
          "scatterpolargl": [
           {
            "marker": {
             "colorbar": {
              "outlinewidth": 0,
              "ticks": ""
             }
            },
            "type": "scatterpolargl"
           }
          ],
          "scatterternary": [
           {
            "marker": {
             "colorbar": {
              "outlinewidth": 0,
              "ticks": ""
             }
            },
            "type": "scatterternary"
           }
          ],
          "surface": [
           {
            "colorbar": {
             "outlinewidth": 0,
             "ticks": ""
            },
            "colorscale": [
             [
              0,
              "#0d0887"
             ],
             [
              0.1111111111111111,
              "#46039f"
             ],
             [
              0.2222222222222222,
              "#7201a8"
             ],
             [
              0.3333333333333333,
              "#9c179e"
             ],
             [
              0.4444444444444444,
              "#bd3786"
             ],
             [
              0.5555555555555556,
              "#d8576b"
             ],
             [
              0.6666666666666666,
              "#ed7953"
             ],
             [
              0.7777777777777778,
              "#fb9f3a"
             ],
             [
              0.8888888888888888,
              "#fdca26"
             ],
             [
              1,
              "#f0f921"
             ]
            ],
            "type": "surface"
           }
          ],
          "table": [
           {
            "cells": {
             "fill": {
              "color": "#EBF0F8"
             },
             "line": {
              "color": "white"
             }
            },
            "header": {
             "fill": {
              "color": "#C8D4E3"
             },
             "line": {
              "color": "white"
             }
            },
            "type": "table"
           }
          ]
         },
         "layout": {
          "annotationdefaults": {
           "arrowcolor": "#2a3f5f",
           "arrowhead": 0,
           "arrowwidth": 1
          },
          "autotypenumbers": "strict",
          "coloraxis": {
           "colorbar": {
            "outlinewidth": 0,
            "ticks": ""
           }
          },
          "colorscale": {
           "diverging": [
            [
             0,
             "#8e0152"
            ],
            [
             0.1,
             "#c51b7d"
            ],
            [
             0.2,
             "#de77ae"
            ],
            [
             0.3,
             "#f1b6da"
            ],
            [
             0.4,
             "#fde0ef"
            ],
            [
             0.5,
             "#f7f7f7"
            ],
            [
             0.6,
             "#e6f5d0"
            ],
            [
             0.7,
             "#b8e186"
            ],
            [
             0.8,
             "#7fbc41"
            ],
            [
             0.9,
             "#4d9221"
            ],
            [
             1,
             "#276419"
            ]
           ],
           "sequential": [
            [
             0,
             "#0d0887"
            ],
            [
             0.1111111111111111,
             "#46039f"
            ],
            [
             0.2222222222222222,
             "#7201a8"
            ],
            [
             0.3333333333333333,
             "#9c179e"
            ],
            [
             0.4444444444444444,
             "#bd3786"
            ],
            [
             0.5555555555555556,
             "#d8576b"
            ],
            [
             0.6666666666666666,
             "#ed7953"
            ],
            [
             0.7777777777777778,
             "#fb9f3a"
            ],
            [
             0.8888888888888888,
             "#fdca26"
            ],
            [
             1,
             "#f0f921"
            ]
           ],
           "sequentialminus": [
            [
             0,
             "#0d0887"
            ],
            [
             0.1111111111111111,
             "#46039f"
            ],
            [
             0.2222222222222222,
             "#7201a8"
            ],
            [
             0.3333333333333333,
             "#9c179e"
            ],
            [
             0.4444444444444444,
             "#bd3786"
            ],
            [
             0.5555555555555556,
             "#d8576b"
            ],
            [
             0.6666666666666666,
             "#ed7953"
            ],
            [
             0.7777777777777778,
             "#fb9f3a"
            ],
            [
             0.8888888888888888,
             "#fdca26"
            ],
            [
             1,
             "#f0f921"
            ]
           ]
          },
          "colorway": [
           "#636efa",
           "#EF553B",
           "#00cc96",
           "#ab63fa",
           "#FFA15A",
           "#19d3f3",
           "#FF6692",
           "#B6E880",
           "#FF97FF",
           "#FECB52"
          ],
          "font": {
           "color": "#2a3f5f"
          },
          "geo": {
           "bgcolor": "white",
           "lakecolor": "white",
           "landcolor": "#E5ECF6",
           "showlakes": true,
           "showland": true,
           "subunitcolor": "white"
          },
          "hoverlabel": {
           "align": "left"
          },
          "hovermode": "closest",
          "mapbox": {
           "style": "light"
          },
          "paper_bgcolor": "white",
          "plot_bgcolor": "#E5ECF6",
          "polar": {
           "angularaxis": {
            "gridcolor": "white",
            "linecolor": "white",
            "ticks": ""
           },
           "bgcolor": "#E5ECF6",
           "radialaxis": {
            "gridcolor": "white",
            "linecolor": "white",
            "ticks": ""
           }
          },
          "scene": {
           "xaxis": {
            "backgroundcolor": "#E5ECF6",
            "gridcolor": "white",
            "gridwidth": 2,
            "linecolor": "white",
            "showbackground": true,
            "ticks": "",
            "zerolinecolor": "white"
           },
           "yaxis": {
            "backgroundcolor": "#E5ECF6",
            "gridcolor": "white",
            "gridwidth": 2,
            "linecolor": "white",
            "showbackground": true,
            "ticks": "",
            "zerolinecolor": "white"
           },
           "zaxis": {
            "backgroundcolor": "#E5ECF6",
            "gridcolor": "white",
            "gridwidth": 2,
            "linecolor": "white",
            "showbackground": true,
            "ticks": "",
            "zerolinecolor": "white"
           }
          },
          "shapedefaults": {
           "line": {
            "color": "#2a3f5f"
           }
          },
          "ternary": {
           "aaxis": {
            "gridcolor": "white",
            "linecolor": "white",
            "ticks": ""
           },
           "baxis": {
            "gridcolor": "white",
            "linecolor": "white",
            "ticks": ""
           },
           "bgcolor": "#E5ECF6",
           "caxis": {
            "gridcolor": "white",
            "linecolor": "white",
            "ticks": ""
           }
          },
          "title": {
           "x": 0.05
          },
          "xaxis": {
           "automargin": true,
           "gridcolor": "white",
           "linecolor": "white",
           "ticks": "",
           "title": {
            "standoff": 15
           },
           "zerolinecolor": "white",
           "zerolinewidth": 2
          },
          "yaxis": {
           "automargin": true,
           "gridcolor": "white",
           "linecolor": "white",
           "ticks": "",
           "title": {
            "standoff": 15
           },
           "zerolinecolor": "white",
           "zerolinewidth": 2
          }
         }
        },
        "title": {
         "text": "End Day Bitcoin Prices"
        },
        "xaxis": {
         "anchor": "y",
         "domain": [
          0,
          1
         ],
         "title": {
          "text": "close_price_USD"
         }
        },
        "yaxis": {
         "anchor": "x",
         "domain": [
          0,
          1
         ],
         "title": {
          "text": "count"
         }
        }
       }
      },
      "text/html": [
       "<div>                            <div id=\"e8a8bbcd-d898-4e70-8276-6978c4a60ec1\" class=\"plotly-graph-div\" style=\"height:525px; width:100%;\"></div>            <script type=\"text/javascript\">                require([\"plotly\"], function(Plotly) {                    window.PLOTLYENV=window.PLOTLYENV || {};                                    if (document.getElementById(\"e8a8bbcd-d898-4e70-8276-6978c4a60ec1\")) {                    Plotly.newPlot(                        \"e8a8bbcd-d898-4e70-8276-6978c4a60ec1\",                        [{\"alignmentgroup\": \"True\", \"bingroup\": \"x\", \"hovertemplate\": \"close_price_USD=%{x}<br>count=%{y}<extra></extra>\", \"legendgroup\": \"\", \"marker\": {\"color\": \"gold\"}, \"name\": \"\", \"offsetgroup\": \"\", \"orientation\": \"v\", \"showlegend\": false, \"type\": \"histogram\", \"x\": [40000.0, 40144.04, 40516.29, 39020.57, 35546.11, 37331.98, 36675.72, 37388.05, 33380.81, 33552.79, 35796.31, 35513.2, 36829.0, 39246.79, 37568.68, 36693.09, 37253.81, 35641.27, 34605.15, 35663.49, 38529.98, 39241.91, 38324.72, 38796.29, 34655.25, 37449.73, 37252.01, 40526.64, 36690.09, 42849.78, 43538.04, 46431.5, 46762.99, 49841.45, 49670.97, 49631.32, 56670.02, 55816.14, 58240.84, 58862.05, 57314.75, 56393.68, 57436.11, 53200.01, 57169.39, 56578.21, 57800.37, 57694.27, 53555.0, 54846.22, 55011.97, 54001.39, 49066.77, 50047.84, 51125.14, 51690.96, 53787.63, 56425.0, 55633.14, 56150.01, 60006.66, 61334.8, 63159.98, 62959.53, 63575.0, 59860.0, 60002.43, 59769.13, 58142.54, 58077.52, 55953.45, 57991.15, 59129.99, 58202.01, 57051.94, 58950.01, 58720.44, 58740.55, 58746.57, 57635.47, 55777.63, 55817.14, 55025.59, 51293.78, 52303.65, 54340.89, 54083.25, 57351.56, 58102.28, 58030.01, 57648.16, 58912.97, 56900.75, 55605.2, 58968.31, 61188.39, 57221.72, 57773.16, 55851.59, 54884.5, 52375.17, 50971.75, 48882.2, 48751.71, 48374.09, 50349.37, 48440.65, 49587.03, 45135.66, 46106.43, 46276.87, 47073.73, 49676.2, 48891.0, 54087.67, 57408.57, 55841.19, 55906.0, 51552.6, 52119.71, 49133.45, 47911.1, 48577.79, 47153.69, 47287.6, 47969.51, 44807.58, 46420.42, 46374.87, 38795.69, 39186.94, 38290.24, 36936.66, 37618.87, 35466.24, 33526.37, 33092.98, 34262.88, 34252.2, 33364.86, 30366.15, 32467.77, 32254.2, 32259.9, 32078.0, 32945.17, 30850.13, 35468.23, 35891.49, 36631.27, 35828.61, 35994.98, 36742.22, 39144.5, 37371.38, 34051.24, 35404.47, 38150.02, 40088.22, 40582.81, 39432.28, 36769.36, 33949.53, 31988.71, 33000.05, 32178.33, 29331.69, 28923.63, 28875.54, 27385.0, 27079.41, 26281.66, 26493.39, 24712.47, 23729.2, 23232.76, 23810.79, 22719.71, 23455.52, 23821.61, 23107.39, 22797.16, 21335.52, 19426.43, 19273.14, 19174.99, 18808.69, 18036.53, 18254.63, 18541.28, 18324.11, 19166.9, 19359.4, 19147.66, 18650.52, 19421.9, 19204.09, 18764.96, 19695.87, 18184.99, 17719.85, 17139.52, 17149.47, 18719.11, 19160.01, 18368.0, 18414.43, 18703.8, 18655.67, 17802.82, 17776.12, 17659.38, 16713.57, 15957.0, 16070.45, 16320.7, 16291.86, 15684.24, 15297.21, 15328.41, 15475.1, 14818.3, 15579.92, 15590.02, 14144.01, 14023.53, 13549.37, 13761.5, 13791.0, 13560.1, 13455.7, 13266.4, 13636.17, 13052.19, 13028.83, 13111.73, 12923.07, 12968.52, 12780.96, 11909.99, 11751.47, 11503.14, 11360.2, 11319.32, 11505.12, 11417.89, 11420.56, 11528.25, 11369.02, 11293.22, 11050.64, 10925.57, 10666.39, 10599.66, 10792.21, 10666.63, 10542.06, 10570.4, 10619.13, 10776.59, 10840.48, 10696.12, 10774.25, 10728.6, 10686.67, 10736.32, 10241.46, 10529.61, 10417.22, 10920.28, 11080.65, 10933.39, 10939.99, 10954.01, 10785.31, 10671.77, 10332.83, 10440.92, 10387.89, 10336.87, 10219.2, 10126.65, 10373.44, 10256.2, 10166.69, 10446.25, 10140.85, 11388.54, 11921.97, 11649.51, 11711.16, 11465.84, 11526.91, 11330.38, 11461.43, 11318.42, 11748.2, 11648.13, 11662.96, 11531.34, 11853.55, 11754.59, 11945.01, 12281.13, 11911.0, 11852.4, 11760.54, 11780.0, 11564.33, 11392.08, 11892.92, 11681.68, 11761.41, 11594.23, 11762.46, 11744.91, 11191.97, 11219.81, 11071.35, 11801.17, 11335.46, 11099.61, 11100.53, 10906.27, 11029.96, 9931.54, 9700.42, 9537.8, 9603.27, 9518.16, 9390.0, 9160.78, 9208.99, 9170.28, 9154.32, 9133.72, 9197.6, 9255.85, 9242.62, 9302.75, 9234.03, 9288.34, 9232.43, 9436.06, 9257.39, 9344.2, 9069.41, 9135.46, 9058.26, 9086.54, 9232.0, 9138.55, 9192.56, 9116.35, 9012.0, 9162.21, 9249.49, 9296.49, 9624.89, 9685.69, 9294.69, 9358.95, 9310.23, 9386.32, 9465.14, 9525.59, 9426.02, 9342.1, 9473.34, 9465.13, 9280.4, 9885.0, 9772.43, 9782.01, 9746.99, 9666.3, 9621.16, 9789.06, 9666.24, 9518.04, 10200.77, 9448.27, 9697.72, 9427.07, 9575.89, 9204.07, 8841.18, 8900.35, 8720.34, 9179.15, 9170.0, 9068.65, 9511.43, 9775.53, 9733.93, 9680.04, 9381.27, 9316.42, 9791.98, 9309.37, 8810.79, 8561.52, 8722.77, 9539.4, 9800.01, 9986.4, 9142.92, 9021.83, 8871.96, 8894.16, 8972.05, 8826.96, 8620.0, 8778.57, 7738.98, 7774.62, 7693.1, 7538.67, 7505.0, 7482.39, 7125.14, 6841.37, 6826.83, 7120.74, 7248.6, 7027.55, 7101.94, 6621.24, 6868.7, 6837.91, 6903.79, 6876.83, 6858.92, 7283.54, 7361.28, 7197.32, 7329.9, 6772.78, 6856.99, 6734.1, 6794.09, 6642.92, 6410.44, 6394.38, 5881.42, 6236.65, 6359.11, 6737.36, 6677.43, 6744.72, 6467.31, 5816.19, 6186.98, 6208.36, 6162.37, 5393.04, 5312.64, 5028.97, 5361.3, 5172.06, 5578.6, 4800.0, 7934.52, 7894.56, 7929.87, 8033.31, 8886.66, 9131.88, 9054.68, 8750.87, 8760.07, 8915.24, 8531.88, 8523.61, 8692.91, 8823.21, 8785.25, 9315.84, 9656.13, 9936.4, 9650.86, 9677.05, 9596.42, 9593.79, 10164.71, 9706.0, 9917.27, 9904.72, 10344.36, 10229.63, 10326.46, 10223.08, 9851.83, 10151.75, 9895.05, 9813.73, 9772.0, 9612.04, 9197.02, 9292.24, 9331.51, 9384.61, 9352.89, 9513.21, 9301.53, 9374.21, 8907.57, 8615.0, 8340.58, 8439.0, 8404.52, 8682.36, 8736.03, 8642.35, 8701.7, 8915.96, 8913.28, 8720.01, 8821.41, 8810.01, 8110.34, 8184.98, 8020.01, 8197.02, 7817.76, 8055.98, 8145.28, 7758.0, 7358.75, 7354.11, 7344.96, 6965.71, 7200.85, 7195.23, 7246.0, 7388.24, 7316.14, 7254.74, 7202.0, 7204.63, 7255.77, 7317.09, 7501.44, 7132.75, 7187.83, 7150.3, 7277.83, 6623.82, 6891.72, 7118.59, 7064.05, 7258.48, 7198.08, 7210.0, 7224.13, 7338.64, 7510.11, 7488.21, 7527.47, 7389.0, 7194.32, 7292.71, 7294.28, 7390.89, 7541.89, 7739.68, 7419.49, 7508.52, 7156.14, 7109.57, 6903.28, 7311.57, 7268.23, 7627.74, 8098.01, 8133.64, 8187.17, 8502.4, 8491.02, 8471.73, 8646.68, 8777.12, 8821.94, 8733.27, 9039.47, 8809.41, 8773.73, 9216.2, 9339.05, 9308.66, 9393.35, 9194.71, 9289.52, 9231.61, 9140.85, 9154.72, 9407.62, 9205.14, 9529.93, 9230.0, 8655.02, 7412.41, 7466.62, 8020.0, 8197.27, 8223.35, 7948.01, 7947.01, 8070.58, 7991.74, 8159.29, 8348.2, 8275.01, 8300.09, 8258.5, 8558.03, 8560.74, 8168.39, 8190.09, 7854.25, 8126.19, 8137.13, 8223.96, 8359.94, 8292.44, 8289.34, 8043.82, 8198.81, 8177.91, 8063.73, 8430.05, 8493.14, 9702.25, 10028.87, 9986.39, 10168.59, 10244.29, 10156.99, 10187.82, 10251.31, 10302.01, 10335.02, 10342.06, 10415.01, 10158.33, 10098.15, 10303.12, 10381.18, 10455.88, 10298.73, 10564.49, 10567.02, 10615.28, 10340.0, 9724.98, 9587.47, 9584.54, 9498.44, 9721.0, 10185.05, 10372.25, 10142.69, 10134.35, 10389.55, 10099.88, 10142.57, 10760.51, 10915.54, 10306.78, 10216.02, 10331.54, 10293.93, 10050.37, 10892.71, 11396.08, 11549.97, 11309.31, 11879.99, 11999.77, 11975.03, 11481.69, 11828.8, 10929.23, 10816.86, 10523.75, 10374.99, 10080.53, 9574.21, 9507.64, 9541.54, 9476.52, 9824.0, 9879.87, 9763.28, 9864.91, 10340.31, 10589.45, 10740.23, 10504.29, 10627.16, 9667.92, 9439.59, 10838.72, 10174.18, 11355.76, 11757.22, 11342.89, 12108.37, 12543.41, 12238.6, 11406.24, 11256.49, 10970.73, 11145.67, 11940.0, 10842.85, 10624.93, 10854.1, 11903.13, 12400.63, 11329.99, 13093.8, 11820.86, 11056.59, 10906.07, 10729.5, 10159.86, 9517.12, 9255.49, 9081.55, 9313.96, 8953.33, 8808.7, 8650.0, 8218.54, 8127.64, 7884.9, 7982.75, 7628.13, 7893.62, 7980.53, 7786.7, 7776.5, 7687.03, 8115.82, 8725.98, 8544.07, 8555.0, 8269.54, 8645.68, 8715.64, 8756.32, 8614.43, 8025.41, 7964.87, 7851.51, 7628.43, 7904.87, 7938.15, 8148.48, 7257.45, 7355.26, 7866.59, 8169.87, 7947.56, 7790.71, 6967.31, 7076.22, 6373.33, 6209.18, 5987.29, 5846.34, 5747.79, 5775.62, 5829.45, 5772.69, 5492.87, 5383.2, 5320.81, 5238.14, 5307.52, 5295.69, 5314.1, 5219.9, 5415.0, 5493.31, 5357.14, 5256.14, 5291.73, 5258.68, 5258.44, 5202.82, 5173.72, 5024.95, 5131.3, 5045.22, 5048.01, 5017.37, 5308.25, 5150.0, 5236.9, 5170.27, 5043.89, 5004.95, 4898.66, 4932.6, 4857.29, 4144.56, 4103.95, 4106.97, 4103.25, 4027.81, 4038.05, 3948.55, 3936.12, 3992.18, 4006.01, 3986.93, 3980.64, 4043.04, 4015.53, 3987.81, 3981.14, 4005.98, 3923.76, 3877.12, 3866.0, 3882.73, 3871.61, 3916.82, 3943.04, 3864.89, 3873.64, 3861.84, 3857.73, 3715.3, 3807.75, 3819.93, 3823.0, 3813.69, 3818.07, 3809.23, 3827.92, 3743.56, 4117.76, 3962.0, 3937.31, 3969.74, 3907.79, 3898.6, 3667.58, 3618.41, 3602.47, 3590.56, 3609.4, 3631.46, 3631.05, 3680.06, 3665.18, 3659.04, 3398.4, 3405.37, 3471.59, 3463.22, 3458.11, 3504.77, 3462.07, 3434.1, 3458.18, 3411.04, 3434.15, 3550.84, 3565.25, 3565.29, 3569.62, 3552.82, 3570.93, 3526.9, 3539.28, 3665.3, 3594.87, 3616.21, 3591.84, 3553.06, 3626.09, 3476.81, 3583.13, 3601.31, 3585.88, 3966.65, 3955.13, 3975.45, 3987.6, 3770.96, 3792.01, 3766.78, 3858.56, 3797.14, 3702.9, 3801.91, 3695.32, 3839.26, 3567.91, 3777.74, 3745.79, 4008.01, 3929.71, 3948.91, 3838.66, 4049.62, 3662.22, 3652.98, 3509.08, 3228.67, 3211.72, 3224.17, 3302.06, 3445.0, 3380.39, 3432.88, 3545.37, 3410.93, 3403.55, 3508.75, 3769.84, 3951.64, 3884.01, 4161.01, 4190.02, 4041.32, 4295.84, 4264.85, 3875.21, 3862.2, 4085.78, 3932.44, 4420.61, 4370.0, 4661.07, 4558.86, 4910.03, 5662.0, 5628.29, 5655.94, 5753.4, 5922.41, 6457.66, 6453.07, 6449.81, 6433.05, 6419.99, 6479.84, 6578.46, 6519.11, 6468.99, 6485.85, 6387.09, 6433.98, 6410.0, 6371.93, 6330.87, 6344.5, 6489.93, 6505.6, 6538.63, 6528.09, 6565.5, 6553.51, 6581.2, 6590.11, 6588.4, 6528.88, 6618.96, 6740.89, 6759.27, 6752.5, 6339.34, 6332.93, 6298.01, 6252.68, 6631.0, 6656.61, 6673.01, 6615.26, 6594.27, 6635.65, 6593.79, 6510.0, 6525.79, 6611.61, 6626.57, 6596.38, 6634.58, 6689.13, 6465.12, 6447.54, 6581.39, 6708.0, 6723.05, 6759.02], \"xaxis\": \"x\", \"yaxis\": \"y\"}],                        {\"barmode\": \"relative\", \"legend\": {\"tracegroupgap\": 0}, \"template\": {\"data\": {\"bar\": [{\"error_x\": {\"color\": \"#2a3f5f\"}, \"error_y\": {\"color\": \"#2a3f5f\"}, \"marker\": {\"line\": {\"color\": \"#E5ECF6\", \"width\": 0.5}}, \"type\": \"bar\"}], \"barpolar\": [{\"marker\": {\"line\": {\"color\": \"#E5ECF6\", \"width\": 0.5}}, \"type\": \"barpolar\"}], \"carpet\": [{\"aaxis\": {\"endlinecolor\": \"#2a3f5f\", \"gridcolor\": \"white\", \"linecolor\": \"white\", \"minorgridcolor\": \"white\", \"startlinecolor\": \"#2a3f5f\"}, \"baxis\": {\"endlinecolor\": \"#2a3f5f\", \"gridcolor\": \"white\", \"linecolor\": \"white\", \"minorgridcolor\": \"white\", \"startlinecolor\": \"#2a3f5f\"}, \"type\": \"carpet\"}], \"choropleth\": [{\"colorbar\": {\"outlinewidth\": 0, \"ticks\": \"\"}, \"type\": \"choropleth\"}], \"contour\": [{\"colorbar\": {\"outlinewidth\": 0, \"ticks\": \"\"}, \"colorscale\": [[0.0, \"#0d0887\"], [0.1111111111111111, \"#46039f\"], [0.2222222222222222, \"#7201a8\"], [0.3333333333333333, \"#9c179e\"], [0.4444444444444444, \"#bd3786\"], [0.5555555555555556, \"#d8576b\"], [0.6666666666666666, \"#ed7953\"], [0.7777777777777778, \"#fb9f3a\"], [0.8888888888888888, \"#fdca26\"], [1.0, \"#f0f921\"]], \"type\": \"contour\"}], \"contourcarpet\": [{\"colorbar\": {\"outlinewidth\": 0, \"ticks\": \"\"}, \"type\": \"contourcarpet\"}], \"heatmap\": [{\"colorbar\": {\"outlinewidth\": 0, \"ticks\": \"\"}, \"colorscale\": [[0.0, \"#0d0887\"], [0.1111111111111111, \"#46039f\"], [0.2222222222222222, \"#7201a8\"], [0.3333333333333333, \"#9c179e\"], [0.4444444444444444, \"#bd3786\"], [0.5555555555555556, \"#d8576b\"], [0.6666666666666666, \"#ed7953\"], [0.7777777777777778, \"#fb9f3a\"], [0.8888888888888888, \"#fdca26\"], [1.0, \"#f0f921\"]], \"type\": \"heatmap\"}], \"heatmapgl\": [{\"colorbar\": {\"outlinewidth\": 0, \"ticks\": \"\"}, \"colorscale\": [[0.0, \"#0d0887\"], [0.1111111111111111, \"#46039f\"], [0.2222222222222222, \"#7201a8\"], [0.3333333333333333, \"#9c179e\"], [0.4444444444444444, \"#bd3786\"], [0.5555555555555556, \"#d8576b\"], [0.6666666666666666, \"#ed7953\"], [0.7777777777777778, \"#fb9f3a\"], [0.8888888888888888, \"#fdca26\"], [1.0, \"#f0f921\"]], \"type\": \"heatmapgl\"}], \"histogram\": [{\"marker\": {\"colorbar\": {\"outlinewidth\": 0, \"ticks\": \"\"}}, \"type\": \"histogram\"}], \"histogram2d\": [{\"colorbar\": {\"outlinewidth\": 0, \"ticks\": \"\"}, \"colorscale\": [[0.0, \"#0d0887\"], [0.1111111111111111, \"#46039f\"], [0.2222222222222222, \"#7201a8\"], [0.3333333333333333, \"#9c179e\"], [0.4444444444444444, \"#bd3786\"], [0.5555555555555556, \"#d8576b\"], [0.6666666666666666, \"#ed7953\"], [0.7777777777777778, \"#fb9f3a\"], [0.8888888888888888, \"#fdca26\"], [1.0, \"#f0f921\"]], \"type\": \"histogram2d\"}], \"histogram2dcontour\": [{\"colorbar\": {\"outlinewidth\": 0, \"ticks\": \"\"}, \"colorscale\": [[0.0, \"#0d0887\"], [0.1111111111111111, \"#46039f\"], [0.2222222222222222, \"#7201a8\"], [0.3333333333333333, \"#9c179e\"], [0.4444444444444444, \"#bd3786\"], [0.5555555555555556, \"#d8576b\"], [0.6666666666666666, \"#ed7953\"], [0.7777777777777778, \"#fb9f3a\"], [0.8888888888888888, \"#fdca26\"], [1.0, \"#f0f921\"]], \"type\": \"histogram2dcontour\"}], \"mesh3d\": [{\"colorbar\": {\"outlinewidth\": 0, \"ticks\": \"\"}, \"type\": \"mesh3d\"}], \"parcoords\": [{\"line\": {\"colorbar\": {\"outlinewidth\": 0, \"ticks\": \"\"}}, \"type\": \"parcoords\"}], \"pie\": [{\"automargin\": true, \"type\": \"pie\"}], \"scatter\": [{\"marker\": {\"colorbar\": {\"outlinewidth\": 0, \"ticks\": \"\"}}, \"type\": \"scatter\"}], \"scatter3d\": [{\"line\": {\"colorbar\": {\"outlinewidth\": 0, \"ticks\": \"\"}}, \"marker\": {\"colorbar\": {\"outlinewidth\": 0, \"ticks\": \"\"}}, \"type\": \"scatter3d\"}], \"scattercarpet\": [{\"marker\": {\"colorbar\": {\"outlinewidth\": 0, \"ticks\": \"\"}}, \"type\": \"scattercarpet\"}], \"scattergeo\": [{\"marker\": {\"colorbar\": {\"outlinewidth\": 0, \"ticks\": \"\"}}, \"type\": \"scattergeo\"}], \"scattergl\": [{\"marker\": {\"colorbar\": {\"outlinewidth\": 0, \"ticks\": \"\"}}, \"type\": \"scattergl\"}], \"scattermapbox\": [{\"marker\": {\"colorbar\": {\"outlinewidth\": 0, \"ticks\": \"\"}}, \"type\": \"scattermapbox\"}], \"scatterpolar\": [{\"marker\": {\"colorbar\": {\"outlinewidth\": 0, \"ticks\": \"\"}}, \"type\": \"scatterpolar\"}], \"scatterpolargl\": [{\"marker\": {\"colorbar\": {\"outlinewidth\": 0, \"ticks\": \"\"}}, \"type\": \"scatterpolargl\"}], \"scatterternary\": [{\"marker\": {\"colorbar\": {\"outlinewidth\": 0, \"ticks\": \"\"}}, \"type\": \"scatterternary\"}], \"surface\": [{\"colorbar\": {\"outlinewidth\": 0, \"ticks\": \"\"}, \"colorscale\": [[0.0, \"#0d0887\"], [0.1111111111111111, \"#46039f\"], [0.2222222222222222, \"#7201a8\"], [0.3333333333333333, \"#9c179e\"], [0.4444444444444444, \"#bd3786\"], [0.5555555555555556, \"#d8576b\"], [0.6666666666666666, \"#ed7953\"], [0.7777777777777778, \"#fb9f3a\"], [0.8888888888888888, \"#fdca26\"], [1.0, \"#f0f921\"]], \"type\": \"surface\"}], \"table\": [{\"cells\": {\"fill\": {\"color\": \"#EBF0F8\"}, \"line\": {\"color\": \"white\"}}, \"header\": {\"fill\": {\"color\": \"#C8D4E3\"}, \"line\": {\"color\": \"white\"}}, \"type\": \"table\"}]}, \"layout\": {\"annotationdefaults\": {\"arrowcolor\": \"#2a3f5f\", \"arrowhead\": 0, \"arrowwidth\": 1}, \"autotypenumbers\": \"strict\", \"coloraxis\": {\"colorbar\": {\"outlinewidth\": 0, \"ticks\": \"\"}}, \"colorscale\": {\"diverging\": [[0, \"#8e0152\"], [0.1, \"#c51b7d\"], [0.2, \"#de77ae\"], [0.3, \"#f1b6da\"], [0.4, \"#fde0ef\"], [0.5, \"#f7f7f7\"], [0.6, \"#e6f5d0\"], [0.7, \"#b8e186\"], [0.8, \"#7fbc41\"], [0.9, \"#4d9221\"], [1, \"#276419\"]], \"sequential\": [[0.0, \"#0d0887\"], [0.1111111111111111, \"#46039f\"], [0.2222222222222222, \"#7201a8\"], [0.3333333333333333, \"#9c179e\"], [0.4444444444444444, \"#bd3786\"], [0.5555555555555556, \"#d8576b\"], [0.6666666666666666, \"#ed7953\"], [0.7777777777777778, \"#fb9f3a\"], [0.8888888888888888, \"#fdca26\"], [1.0, \"#f0f921\"]], \"sequentialminus\": [[0.0, \"#0d0887\"], [0.1111111111111111, \"#46039f\"], [0.2222222222222222, \"#7201a8\"], [0.3333333333333333, \"#9c179e\"], [0.4444444444444444, \"#bd3786\"], [0.5555555555555556, \"#d8576b\"], [0.6666666666666666, \"#ed7953\"], [0.7777777777777778, \"#fb9f3a\"], [0.8888888888888888, \"#fdca26\"], [1.0, \"#f0f921\"]]}, \"colorway\": [\"#636efa\", \"#EF553B\", \"#00cc96\", \"#ab63fa\", \"#FFA15A\", \"#19d3f3\", \"#FF6692\", \"#B6E880\", \"#FF97FF\", \"#FECB52\"], \"font\": {\"color\": \"#2a3f5f\"}, \"geo\": {\"bgcolor\": \"white\", \"lakecolor\": \"white\", \"landcolor\": \"#E5ECF6\", \"showlakes\": true, \"showland\": true, \"subunitcolor\": \"white\"}, \"hoverlabel\": {\"align\": \"left\"}, \"hovermode\": \"closest\", \"mapbox\": {\"style\": \"light\"}, \"paper_bgcolor\": \"white\", \"plot_bgcolor\": \"#E5ECF6\", \"polar\": {\"angularaxis\": {\"gridcolor\": \"white\", \"linecolor\": \"white\", \"ticks\": \"\"}, \"bgcolor\": \"#E5ECF6\", \"radialaxis\": {\"gridcolor\": \"white\", \"linecolor\": \"white\", \"ticks\": \"\"}}, \"scene\": {\"xaxis\": {\"backgroundcolor\": \"#E5ECF6\", \"gridcolor\": \"white\", \"gridwidth\": 2, \"linecolor\": \"white\", \"showbackground\": true, \"ticks\": \"\", \"zerolinecolor\": \"white\"}, \"yaxis\": {\"backgroundcolor\": \"#E5ECF6\", \"gridcolor\": \"white\", \"gridwidth\": 2, \"linecolor\": \"white\", \"showbackground\": true, \"ticks\": \"\", \"zerolinecolor\": \"white\"}, \"zaxis\": {\"backgroundcolor\": \"#E5ECF6\", \"gridcolor\": \"white\", \"gridwidth\": 2, \"linecolor\": \"white\", \"showbackground\": true, \"ticks\": \"\", \"zerolinecolor\": \"white\"}}, \"shapedefaults\": {\"line\": {\"color\": \"#2a3f5f\"}}, \"ternary\": {\"aaxis\": {\"gridcolor\": \"white\", \"linecolor\": \"white\", \"ticks\": \"\"}, \"baxis\": {\"gridcolor\": \"white\", \"linecolor\": \"white\", \"ticks\": \"\"}, \"bgcolor\": \"#E5ECF6\", \"caxis\": {\"gridcolor\": \"white\", \"linecolor\": \"white\", \"ticks\": \"\"}}, \"title\": {\"x\": 0.05}, \"xaxis\": {\"automargin\": true, \"gridcolor\": \"white\", \"linecolor\": \"white\", \"ticks\": \"\", \"title\": {\"standoff\": 15}, \"zerolinecolor\": \"white\", \"zerolinewidth\": 2}, \"yaxis\": {\"automargin\": true, \"gridcolor\": \"white\", \"linecolor\": \"white\", \"ticks\": \"\", \"title\": {\"standoff\": 15}, \"zerolinecolor\": \"white\", \"zerolinewidth\": 2}}}, \"title\": {\"text\": \"End Day Bitcoin Prices\"}, \"xaxis\": {\"anchor\": \"y\", \"domain\": [0.0, 1.0], \"title\": {\"text\": \"close_price_USD\"}}, \"yaxis\": {\"anchor\": \"x\", \"domain\": [0.0, 1.0], \"title\": {\"text\": \"count\"}}},                        {\"responsive\": true}                    ).then(function(){\n",
       "                            \n",
       "var gd = document.getElementById('e8a8bbcd-d898-4e70-8276-6978c4a60ec1');\n",
       "var x = new MutationObserver(function (mutations, observer) {{\n",
       "        var display = window.getComputedStyle(gd).display;\n",
       "        if (!display || display === 'none') {{\n",
       "            console.log([gd, 'removed!']);\n",
       "            Plotly.purge(gd);\n",
       "            observer.disconnect();\n",
       "        }}\n",
       "}});\n",
       "\n",
       "// Listen for the removal of the full notebook cells\n",
       "var notebookContainer = gd.closest('#notebook-container');\n",
       "if (notebookContainer) {{\n",
       "    x.observe(notebookContainer, {childList: true});\n",
       "}}\n",
       "\n",
       "// Listen for the clearing of the current output cell\n",
       "var outputEl = gd.closest('.output');\n",
       "if (outputEl) {{\n",
       "    x.observe(outputEl, {childList: true});\n",
       "}}\n",
       "\n",
       "                        })                };                });            </script>        </div>"
      ]
     },
     "metadata": {},
     "output_type": "display_data"
    }
   ],
   "source": [
    "fig = px.histogram(final, x = \"close_price_USD\", title = \"End Day Bitcoin Prices\", color_discrete_sequence = ['gold'])\n",
    "fig.show()"
   ]
  },
  {
   "cell_type": "code",
   "execution_count": 23,
   "metadata": {},
   "outputs": [
    {
     "data": {
      "text/plain": [
       "count     1000.000000\n",
       "mean     15118.624680\n",
       "std      15193.356589\n",
       "min       3211.720000\n",
       "25%       6736.545000\n",
       "50%       9295.590000\n",
       "75%      11913.742500\n",
       "max      63575.000000\n",
       "Name: close_price_USD, dtype: float64"
      ]
     },
     "execution_count": 23,
     "metadata": {},
     "output_type": "execute_result"
    }
   ],
   "source": [
    "final.close_price_USD.describe()"
   ]
  },
  {
   "cell_type": "code",
   "execution_count": null,
   "metadata": {},
   "outputs": [],
   "source": []
  }
 ],
 "metadata": {
  "kernelspec": {
   "display_name": "Python 3",
   "language": "python",
   "name": "python3"
  },
  "language_info": {
   "codemirror_mode": {
    "name": "ipython",
    "version": 3
   },
   "file_extension": ".py",
   "mimetype": "text/x-python",
   "name": "python",
   "nbconvert_exporter": "python",
   "pygments_lexer": "ipython3",
   "version": "3.8.3"
  }
 },
 "nbformat": 4,
 "nbformat_minor": 4
}
